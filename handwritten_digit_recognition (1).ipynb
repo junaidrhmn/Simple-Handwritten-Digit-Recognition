{
  "nbformat": 4,
  "nbformat_minor": 0,
  "metadata": {
    "colab": {
      "provenance": [],
      "gpuType": "T4"
    },
    "kernelspec": {
      "name": "python3",
      "display_name": "Python 3"
    },
    "language_info": {
      "name": "python"
    },
    "accelerator": "GPU"
  },
  "cells": [
    {
      "cell_type": "markdown",
      "source": [
        "# **Handwritten Digit Recognition Project**"
      ],
      "metadata": {
        "id": "AlaMBBCJxgN1"
      }
    },
    {
      "cell_type": "markdown",
      "source": [
        "**Goal**\n",
        "This project focuses on creating a robust handwritten digit recognition system using the MNIST dataset. The primary objective is to optimize the model's performance through hyperparameter tuning, enhancing its accuracy in recognizing digits (0-9).\n",
        "\n",
        "**Approach**\n",
        "\n",
        "1. Data Preprocessing:\n",
        "\n",
        "\n",
        "\n",
        "* Load and preprocess the MNIST dataset.\n",
        "* Normalize pixel values to [0, 1].\n",
        "\n",
        "2. Model Design:\n",
        "\n",
        "* Create a neural network architecture suitable for digit recognition.\n",
        "\n",
        "3. Hyperparameter Tuning:\n",
        "\n",
        "* Utilize randomized search to optimize learning rates, dropout, and layer sizes.\n",
        "\n",
        "4. Training and Evaluation:\n",
        "\n",
        "* Train the model on the dataset.\n",
        "* Evaluate performance metrics like accuracy.\n",
        "\n",
        "5. Outcome\n",
        "\n",
        "* Aim to achieve an optimized model for accurate handwritten digit recognition."
      ],
      "metadata": {
        "id": "TCdvJyJ8xoLk"
      }
    },
    {
      "cell_type": "markdown",
      "source": [
        "# **installing necessary packages**"
      ],
      "metadata": {
        "id": "pHxct3xKw-pN"
      }
    },
    {
      "cell_type": "code",
      "source": [
        "pip install scikeras"
      ],
      "metadata": {
        "id": "vvA2E3MKvxJ2"
      },
      "execution_count": null,
      "outputs": []
    },
    {
      "cell_type": "markdown",
      "source": [
        "# **Importing libraries**"
      ],
      "metadata": {
        "id": "T0qqH12mTqHh"
      }
    },
    {
      "cell_type": "code",
      "execution_count": 80,
      "metadata": {
        "id": "flN0_kYLRiuF"
      },
      "outputs": [],
      "source": [
        "import tensorflow as tf\n",
        "from tensorflow.keras import layers, models\n",
        "import numpy as np\n",
        "import matplotlib.pyplot as plt\n",
        "from tensorflow.keras.models import Sequential\n",
        "from tensorflow.keras.preprocessing.image import ImageDataGenerator\n",
        "from scipy.stats import randint\n",
        "from sklearn.model_selection import RandomizedSearchCV\n",
        "from scikeras.wrappers import KerasClassifier"
      ]
    },
    {
      "cell_type": "markdown",
      "source": [
        "# **Loading Dataset**"
      ],
      "metadata": {
        "id": "JQK7mQ5lTwOH"
      }
    },
    {
      "cell_type": "code",
      "source": [
        "(train_images, train_labels),(test_images, test_labels) = tf.keras.datasets.mnist.load_data()"
      ],
      "metadata": {
        "id": "AOBpGMG8TvLT"
      },
      "execution_count": 126,
      "outputs": []
    },
    {
      "cell_type": "code",
      "source": [
        "print(\"Label:\", train_labels[1])\n",
        "plt.imshow(train_images[1])\n",
        "plt.show()\n",
        "print(\"Training images shape:\", train_images.shape)\n",
        "print(\"Training labels shape:\", train_labels.shape)"
      ],
      "metadata": {
        "colab": {
          "base_uri": "https://localhost:8080/",
          "height": 485
        },
        "id": "jyDxhshOWoae",
        "outputId": "fdb4c569-c952-4fe0-b2d6-2b9195ac2818"
      },
      "execution_count": 82,
      "outputs": [
        {
          "output_type": "stream",
          "name": "stdout",
          "text": [
            "Label: 0\n"
          ]
        },
        {
          "output_type": "display_data",
          "data": {
            "text/plain": [
              "<Figure size 640x480 with 1 Axes>"
            ],
            "image/png": "[encoded data removed]"
          },
          "metadata": {}
        },
        {
          "output_type": "stream",
          "name": "stdout",
          "text": [
            "Training images shape: (60000, 28, 28)\n",
            "Training labels shape: (60000,)\n"
          ]
        }
      ]
    },
    {
      "cell_type": "markdown",
      "source": [
        "# **Normalisation and reshaping of images**"
      ],
      "metadata": {
        "id": "6V3XRK-QYpn7"
      }
    },
    {
      "cell_type": "code",
      "source": [
        "train_images = train_images.astype(np.float32) / 255\n",
        "train_images = train_images.reshape(train_images.shape[0], 28, 28, 1)"
      ],
      "metadata": {
        "id": "gtFyqu4nWwL1"
      },
      "execution_count": 129,
      "outputs": []
    },
    {
      "cell_type": "code",
      "source": [
        "test_images = test_images.astype(np.float32) / 255\n",
        "test_images = test_images.reshape(test_images.shape[0], 28, 28, 1)"
      ],
      "metadata": {
        "id": "1ox8bA5Kktum"
      },
      "execution_count": 133,
      "outputs": []
    },
    {
      "cell_type": "markdown",
      "source": [
        "#**model Creation function**"
      ],
      "metadata": {
        "id": "ZdhqhR5XgPnP"
      }
    },
    {
      "cell_type": "code",
      "source": [
        "def create_model(learning_rate=0.01,node1=256,node2=128,node3=64,dropout_rate=0.2):\n",
        "  model = models.Sequential([\n",
        "      layers.Flatten(input_shape=(28, 28)),\n",
        "      layers.Dense(node1, activation='relu'),\n",
        "      layers.Dropout(dropout_rate),\n",
        "      layers.Dense(node2, activation='relu'),\n",
        "      layers.Dropout(dropout_rate),\n",
        "      layers.Dense(node3, activation='relu'),\n",
        "      layers.Dropout(dropout_rate),\n",
        "      layers.Dense(10, activation='softmax')\n",
        "  ])\n",
        "\n",
        "  model.compile(optimizer=tf.keras.optimizers.Adam(learning_rate),\n",
        "                loss='sparse_categorical_crossentropy',\n",
        "                metrics=['accuracy'])\n",
        "  return model"
      ],
      "metadata": {
        "id": "01BoVut4e-Zo"
      },
      "execution_count": 84,
      "outputs": []
    },
    {
      "cell_type": "code",
      "source": [
        "model = KerasClassifier(build_fn=create_model,dropout_rate=0.4,learning_rate=0.1,node1=256,node2=128,node3=64,epochs=5, batch_size=128)\n",
        "# model = create_model()"
      ],
      "metadata": {
        "id": "b7h8iZ5gm4IM"
      },
      "execution_count": 91,
      "outputs": []
    },
    {
      "cell_type": "markdown",
      "source": [
        "# **Data Augmentation**"
      ],
      "metadata": {
        "id": "RuCbVMuEwC2M"
      }
    },
    {
      "cell_type": "code",
      "source": [
        "data_generator = ImageDataGenerator(rotation_range=10,\n",
        "                                    width_shift_range=0.1,\n",
        "                                    height_shift_range=0.1,\n",
        "                                    zoom_range=0.1)\n",
        "data_generator.fit(train_images)"
      ],
      "metadata": {
        "id": "h1L3sj487wAA"
      },
      "execution_count": 92,
      "outputs": []
    },
    {
      "cell_type": "markdown",
      "source": [
        "# **HyperParameter Tuning**"
      ],
      "metadata": {
        "id": "NzDip_nOwHS9"
      }
    },
    {
      "cell_type": "code",
      "source": [
        "params_tuning = {\n",
        "    'learning_rate' : np.logspace(-4,0, num=20),\n",
        "    'node1' : randint(64, 256),\n",
        "    'node2' : randint(32, 128),\n",
        "    'node3' : randint(32,128),\n",
        "    'dropout_rate' : [0.2,0.4,0.6],\n",
        "    'epochs' : [10, 15, 20],\n",
        "    'batch_size' : [32, 64, 128, 256, 512]\n",
        "}"
      ],
      "metadata": {
        "id": "O-KTPVVd86Hk"
      },
      "execution_count": 93,
      "outputs": []
    },
    {
      "cell_type": "code",
      "source": [
        "random_search = RandomizedSearchCV(estimator = model, param_distributions=params_tuning,n_iter=10,cv=4)\n",
        "random_result = random_search.fit(train_images,train_labels)"
      ],
      "metadata": {
        "colab": {
          "base_uri": "https://localhost:8080/"
        },
        "id": "eqUxqeG1_2q-",
        "outputId": "bf5db473-c8b9-4845-de70-bb05ac3c95fc"
      },
      "execution_count": 94,
      "outputs": [
        {
          "output_type": "stream",
          "name": "stderr",
          "text": [
            "/usr/local/lib/python3.10/dist-packages/scikeras/wrappers.py:915: UserWarning: ``build_fn`` will be renamed to ``model`` in a future release, at which point use of ``build_fn`` will raise an Error instead.\n",
            "  X, y = self._initialize(X, y)\n"
          ]
        },
        {
          "output_type": "stream",
          "name": "stdout",
          "text": [
            "Epoch 1/10\n",
            "88/88 [==============================] - 2s 4ms/step - loss: 2.2862 - accuracy: 0.1655\n",
            "Epoch 2/10\n",
            "88/88 [==============================] - 0s 4ms/step - loss: 2.1113 - accuracy: 0.1991\n",
            "Epoch 3/10\n",
            "88/88 [==============================] - 0s 4ms/step - loss: 2.0891 - accuracy: 0.2004\n",
            "Epoch 4/10\n",
            "88/88 [==============================] - 0s 4ms/step - loss: 2.0915 - accuracy: 0.1955\n",
            "Epoch 5/10\n",
            "88/88 [==============================] - 0s 4ms/step - loss: 2.1507 - accuracy: 0.1831\n",
            "Epoch 6/10\n",
            "88/88 [==============================] - 0s 4ms/step - loss: 2.1981 - accuracy: 0.1630\n",
            "Epoch 7/10\n",
            "88/88 [==============================] - 0s 4ms/step - loss: 2.2564 - accuracy: 0.1225\n",
            "Epoch 8/10\n",
            "88/88 [==============================] - 0s 4ms/step - loss: 2.2453 - accuracy: 0.1265\n",
            "Epoch 9/10\n",
            "88/88 [==============================] - 0s 4ms/step - loss: 2.2542 - accuracy: 0.1217\n",
            "Epoch 10/10\n",
            "88/88 [==============================] - 1s 7ms/step - loss: 2.2615 - accuracy: 0.1240\n",
            "30/30 [==============================] - 0s 2ms/step\n"
          ]
        },
        {
          "output_type": "stream",
          "name": "stderr",
          "text": [
            "/usr/local/lib/python3.10/dist-packages/scikeras/wrappers.py:915: UserWarning: ``build_fn`` will be renamed to ``model`` in a future release, at which point use of ``build_fn`` will raise an Error instead.\n",
            "  X, y = self._initialize(X, y)\n"
          ]
        },
        {
          "output_type": "stream",
          "name": "stdout",
          "text": [
            "Epoch 1/10\n",
            "88/88 [==============================] - 2s 4ms/step - loss: 2.0944 - accuracy: 0.2549\n",
            "Epoch 2/10\n",
            "88/88 [==============================] - 0s 4ms/step - loss: 1.9185 - accuracy: 0.3022\n",
            "Epoch 3/10\n",
            "88/88 [==============================] - 0s 4ms/step - loss: 1.9478 - accuracy: 0.2923\n",
            "Epoch 4/10\n",
            "88/88 [==============================] - 0s 4ms/step - loss: 1.9418 - accuracy: 0.2811\n",
            "Epoch 5/10\n",
            "88/88 [==============================] - 0s 4ms/step - loss: 1.9720 - accuracy: 0.2728\n",
            "Epoch 6/10\n",
            "88/88 [==============================] - 0s 4ms/step - loss: 2.0290 - accuracy: 0.2381\n",
            "Epoch 7/10\n",
            "88/88 [==============================] - 0s 4ms/step - loss: 2.0050 - accuracy: 0.2461\n",
            "Epoch 8/10\n",
            "88/88 [==============================] - 0s 6ms/step - loss: 2.0314 - accuracy: 0.2321\n",
            "Epoch 9/10\n",
            "88/88 [==============================] - 1s 6ms/step - loss: 2.0940 - accuracy: 0.2178\n",
            "Epoch 10/10\n",
            "88/88 [==============================] - 0s 6ms/step - loss: 2.0870 - accuracy: 0.2072\n",
            "30/30 [==============================] - 0s 4ms/step\n"
          ]
        },
        {
          "output_type": "stream",
          "name": "stderr",
          "text": [
            "/usr/local/lib/python3.10/dist-packages/scikeras/wrappers.py:915: UserWarning: ``build_fn`` will be renamed to ``model`` in a future release, at which point use of ``build_fn`` will raise an Error instead.\n",
            "  X, y = self._initialize(X, y)\n"
          ]
        },
        {
          "output_type": "stream",
          "name": "stdout",
          "text": [
            "Epoch 1/10\n",
            "88/88 [==============================] - 2s 4ms/step - loss: 2.1308 - accuracy: 0.2233\n",
            "Epoch 2/10\n",
            "88/88 [==============================] - 0s 4ms/step - loss: 2.0264 - accuracy: 0.2369\n",
            "Epoch 3/10\n",
            "88/88 [==============================] - 0s 4ms/step - loss: 2.0662 - accuracy: 0.2192\n",
            "Epoch 4/10\n",
            "88/88 [==============================] - 0s 4ms/step - loss: 2.0827 - accuracy: 0.2077\n",
            "Epoch 5/10\n",
            "88/88 [==============================] - 0s 4ms/step - loss: 2.0796 - accuracy: 0.2073\n",
            "Epoch 6/10\n",
            "88/88 [==============================] - 0s 4ms/step - loss: 2.0859 - accuracy: 0.2069\n",
            "Epoch 7/10\n",
            "88/88 [==============================] - 0s 4ms/step - loss: 2.0906 - accuracy: 0.1982\n",
            "Epoch 8/10\n",
            "88/88 [==============================] - 0s 4ms/step - loss: 2.1163 - accuracy: 0.1973\n",
            "Epoch 9/10\n",
            "88/88 [==============================] - 0s 4ms/step - loss: 2.1406 - accuracy: 0.1818\n",
            "Epoch 10/10\n",
            "88/88 [==============================] - 0s 4ms/step - loss: 2.1602 - accuracy: 0.1750\n",
            "30/30 [==============================] - 0s 2ms/step\n"
          ]
        },
        {
          "output_type": "stream",
          "name": "stderr",
          "text": [
            "/usr/local/lib/python3.10/dist-packages/scikeras/wrappers.py:915: UserWarning: ``build_fn`` will be renamed to ``model`` in a future release, at which point use of ``build_fn`` will raise an Error instead.\n",
            "  X, y = self._initialize(X, y)\n"
          ]
        },
        {
          "output_type": "stream",
          "name": "stdout",
          "text": [
            "Epoch 1/10\n",
            "88/88 [==============================] - 2s 4ms/step - loss: 2.1119 - accuracy: 0.2448\n",
            "Epoch 2/10\n",
            "88/88 [==============================] - 0s 4ms/step - loss: 1.9417 - accuracy: 0.2768\n",
            "Epoch 3/10\n",
            "88/88 [==============================] - 0s 4ms/step - loss: 1.9592 - accuracy: 0.2676\n",
            "Epoch 4/10\n",
            "88/88 [==============================] - 0s 4ms/step - loss: 2.0002 - accuracy: 0.2553\n",
            "Epoch 5/10\n",
            "88/88 [==============================] - 0s 4ms/step - loss: 2.0588 - accuracy: 0.2180\n",
            "Epoch 6/10\n",
            "88/88 [==============================] - 0s 6ms/step - loss: 2.0755 - accuracy: 0.2195\n",
            "Epoch 7/10\n",
            "88/88 [==============================] - 0s 6ms/step - loss: 2.1102 - accuracy: 0.1884\n",
            "Epoch 8/10\n",
            "88/88 [==============================] - 1s 6ms/step - loss: 2.1197 - accuracy: 0.1856\n",
            "Epoch 9/10\n",
            "88/88 [==============================] - 1s 6ms/step - loss: 2.0955 - accuracy: 0.1960\n",
            "Epoch 10/10\n",
            "88/88 [==============================] - 1s 6ms/step - loss: 2.1392 - accuracy: 0.1881\n",
            "30/30 [==============================] - 0s 3ms/step\n"
          ]
        },
        {
          "output_type": "stream",
          "name": "stderr",
          "text": [
            "/usr/local/lib/python3.10/dist-packages/scikeras/wrappers.py:915: UserWarning: ``build_fn`` will be renamed to ``model`` in a future release, at which point use of ``build_fn`` will raise an Error instead.\n",
            "  X, y = self._initialize(X, y)\n"
          ]
        },
        {
          "output_type": "stream",
          "name": "stdout",
          "text": [
            "Epoch 1/15\n",
            "352/352 [==============================] - 3s 4ms/step - loss: 0.6573 - accuracy: 0.7931\n",
            "Epoch 2/15\n",
            "352/352 [==============================] - 1s 4ms/step - loss: 0.3065 - accuracy: 0.9142\n",
            "Epoch 3/15\n",
            "352/352 [==============================] - 1s 4ms/step - loss: 0.2464 - accuracy: 0.9310\n",
            "Epoch 4/15\n",
            "352/352 [==============================] - 1s 4ms/step - loss: 0.2155 - accuracy: 0.9399\n",
            "Epoch 5/15\n",
            "352/352 [==============================] - 1s 4ms/step - loss: 0.1944 - accuracy: 0.9453\n",
            "Epoch 6/15\n",
            "352/352 [==============================] - 1s 4ms/step - loss: 0.1825 - accuracy: 0.9478\n",
            "Epoch 7/15\n",
            "352/352 [==============================] - 2s 5ms/step - loss: 0.1685 - accuracy: 0.9528\n",
            "Epoch 8/15\n",
            "352/352 [==============================] - 2s 5ms/step - loss: 0.1607 - accuracy: 0.9542\n",
            "Epoch 9/15\n",
            "352/352 [==============================] - 1s 4ms/step - loss: 0.1535 - accuracy: 0.9567\n",
            "Epoch 10/15\n",
            "352/352 [==============================] - 1s 4ms/step - loss: 0.1461 - accuracy: 0.9590\n",
            "Epoch 11/15\n",
            "352/352 [==============================] - 1s 4ms/step - loss: 0.1401 - accuracy: 0.9601\n",
            "Epoch 12/15\n",
            "352/352 [==============================] - 1s 4ms/step - loss: 0.1348 - accuracy: 0.9614\n",
            "Epoch 13/15\n",
            "352/352 [==============================] - 1s 4ms/step - loss: 0.1341 - accuracy: 0.9619\n",
            "Epoch 14/15\n",
            "352/352 [==============================] - 1s 4ms/step - loss: 0.1281 - accuracy: 0.9633\n",
            "Epoch 15/15\n",
            "352/352 [==============================] - 1s 4ms/step - loss: 0.1241 - accuracy: 0.9648\n",
            "118/118 [==============================] - 0s 2ms/step\n"
          ]
        },
        {
          "output_type": "stream",
          "name": "stderr",
          "text": [
            "/usr/local/lib/python3.10/dist-packages/scikeras/wrappers.py:915: UserWarning: ``build_fn`` will be renamed to ``model`` in a future release, at which point use of ``build_fn`` will raise an Error instead.\n",
            "  X, y = self._initialize(X, y)\n"
          ]
        },
        {
          "output_type": "stream",
          "name": "stdout",
          "text": [
            "Epoch 1/15\n",
            "352/352 [==============================] - 4s 4ms/step - loss: 0.6663 - accuracy: 0.7906\n",
            "Epoch 2/15\n",
            "352/352 [==============================] - 1s 4ms/step - loss: 0.3138 - accuracy: 0.9144\n",
            "Epoch 3/15\n",
            "352/352 [==============================] - 1s 3ms/step - loss: 0.2514 - accuracy: 0.9312\n",
            "Epoch 4/15\n",
            "352/352 [==============================] - 1s 4ms/step - loss: 0.2194 - accuracy: 0.9391\n",
            "Epoch 5/15\n",
            "352/352 [==============================] - 1s 4ms/step - loss: 0.2031 - accuracy: 0.9433\n",
            "Epoch 6/15\n",
            "352/352 [==============================] - 1s 4ms/step - loss: 0.1817 - accuracy: 0.9502\n",
            "Epoch 7/15\n",
            "352/352 [==============================] - 1s 4ms/step - loss: 0.1782 - accuracy: 0.9498\n",
            "Epoch 8/15\n",
            "352/352 [==============================] - 1s 4ms/step - loss: 0.1644 - accuracy: 0.9540\n",
            "Epoch 9/15\n",
            "352/352 [==============================] - 2s 5ms/step - loss: 0.1570 - accuracy: 0.9558\n",
            "Epoch 10/15\n",
            "352/352 [==============================] - 2s 5ms/step - loss: 0.1469 - accuracy: 0.9589\n",
            "Epoch 11/15\n",
            "352/352 [==============================] - 1s 4ms/step - loss: 0.1429 - accuracy: 0.9589\n",
            "Epoch 12/15\n",
            "352/352 [==============================] - 1s 3ms/step - loss: 0.1388 - accuracy: 0.9596\n",
            "Epoch 13/15\n",
            "352/352 [==============================] - 1s 4ms/step - loss: 0.1351 - accuracy: 0.9611\n",
            "Epoch 14/15\n",
            "352/352 [==============================] - 1s 4ms/step - loss: 0.1315 - accuracy: 0.9618\n",
            "Epoch 15/15\n",
            "352/352 [==============================] - 1s 4ms/step - loss: 0.1239 - accuracy: 0.9644\n",
            "118/118 [==============================] - 0s 2ms/step\n"
          ]
        },
        {
          "output_type": "stream",
          "name": "stderr",
          "text": [
            "/usr/local/lib/python3.10/dist-packages/scikeras/wrappers.py:915: UserWarning: ``build_fn`` will be renamed to ``model`` in a future release, at which point use of ``build_fn`` will raise an Error instead.\n",
            "  X, y = self._initialize(X, y)\n"
          ]
        },
        {
          "output_type": "stream",
          "name": "stdout",
          "text": [
            "Epoch 1/15\n",
            "352/352 [==============================] - 3s 4ms/step - loss: 0.6579 - accuracy: 0.7915\n",
            "Epoch 2/15\n",
            "352/352 [==============================] - 2s 5ms/step - loss: 0.3092 - accuracy: 0.9144\n",
            "Epoch 3/15\n",
            "352/352 [==============================] - 2s 5ms/step - loss: 0.2554 - accuracy: 0.9288\n",
            "Epoch 4/15\n",
            "352/352 [==============================] - 2s 5ms/step - loss: 0.2227 - accuracy: 0.9379\n",
            "Epoch 5/15\n",
            "352/352 [==============================] - 2s 6ms/step - loss: 0.1976 - accuracy: 0.9438\n",
            "Epoch 6/15\n",
            "352/352 [==============================] - 1s 4ms/step - loss: 0.1837 - accuracy: 0.9486\n",
            "Epoch 7/15\n",
            "352/352 [==============================] - 1s 4ms/step - loss: 0.1761 - accuracy: 0.9517\n",
            "Epoch 8/15\n",
            "352/352 [==============================] - 1s 3ms/step - loss: 0.1601 - accuracy: 0.9542\n",
            "Epoch 9/15\n",
            "352/352 [==============================] - 1s 4ms/step - loss: 0.1558 - accuracy: 0.9550\n",
            "Epoch 10/15\n",
            "352/352 [==============================] - 2s 4ms/step - loss: 0.1463 - accuracy: 0.9589\n",
            "Epoch 11/15\n",
            "352/352 [==============================] - 2s 5ms/step - loss: 0.1449 - accuracy: 0.9588\n",
            "Epoch 12/15\n",
            "352/352 [==============================] - 1s 4ms/step - loss: 0.1375 - accuracy: 0.9608\n",
            "Epoch 13/15\n",
            "352/352 [==============================] - 1s 4ms/step - loss: 0.1333 - accuracy: 0.9626\n",
            "Epoch 14/15\n",
            "352/352 [==============================] - 1s 4ms/step - loss: 0.1307 - accuracy: 0.9635\n",
            "Epoch 15/15\n",
            "352/352 [==============================] - 1s 4ms/step - loss: 0.1273 - accuracy: 0.9642\n",
            "118/118 [==============================] - 0s 2ms/step\n"
          ]
        },
        {
          "output_type": "stream",
          "name": "stderr",
          "text": [
            "/usr/local/lib/python3.10/dist-packages/scikeras/wrappers.py:915: UserWarning: ``build_fn`` will be renamed to ``model`` in a future release, at which point use of ``build_fn`` will raise an Error instead.\n",
            "  X, y = self._initialize(X, y)\n"
          ]
        },
        {
          "output_type": "stream",
          "name": "stdout",
          "text": [
            "Epoch 1/15\n",
            "352/352 [==============================] - 2s 4ms/step - loss: 0.6682 - accuracy: 0.7911\n",
            "Epoch 2/15\n",
            "352/352 [==============================] - 1s 4ms/step - loss: 0.3101 - accuracy: 0.9121\n",
            "Epoch 3/15\n",
            "352/352 [==============================] - 2s 5ms/step - loss: 0.2538 - accuracy: 0.9290\n",
            "Epoch 4/15\n",
            "352/352 [==============================] - 2s 5ms/step - loss: 0.2173 - accuracy: 0.9401\n",
            "Epoch 5/15\n",
            "352/352 [==============================] - 1s 4ms/step - loss: 0.2006 - accuracy: 0.9437\n",
            "Epoch 6/15\n",
            "352/352 [==============================] - 1s 4ms/step - loss: 0.1839 - accuracy: 0.9493\n",
            "Epoch 7/15\n",
            "352/352 [==============================] - 1s 4ms/step - loss: 0.1743 - accuracy: 0.9516\n",
            "Epoch 8/15\n",
            "352/352 [==============================] - 1s 4ms/step - loss: 0.1649 - accuracy: 0.9545\n",
            "Epoch 9/15\n",
            "352/352 [==============================] - 1s 4ms/step - loss: 0.1532 - accuracy: 0.9566\n",
            "Epoch 10/15\n",
            "352/352 [==============================] - 1s 4ms/step - loss: 0.1475 - accuracy: 0.9581\n",
            "Epoch 11/15\n",
            "352/352 [==============================] - 1s 3ms/step - loss: 0.1430 - accuracy: 0.9597\n",
            "Epoch 12/15\n",
            "352/352 [==============================] - 1s 4ms/step - loss: 0.1346 - accuracy: 0.9615\n",
            "Epoch 13/15\n",
            "352/352 [==============================] - 2s 5ms/step - loss: 0.1339 - accuracy: 0.9625\n",
            "Epoch 14/15\n",
            "352/352 [==============================] - 2s 5ms/step - loss: 0.1247 - accuracy: 0.9646\n",
            "Epoch 15/15\n",
            "352/352 [==============================] - 1s 4ms/step - loss: 0.1236 - accuracy: 0.9646\n",
            "118/118 [==============================] - 0s 2ms/step\n"
          ]
        },
        {
          "output_type": "stream",
          "name": "stderr",
          "text": [
            "/usr/local/lib/python3.10/dist-packages/scikeras/wrappers.py:915: UserWarning: ``build_fn`` will be renamed to ``model`` in a future release, at which point use of ``build_fn`` will raise an Error instead.\n",
            "  X, y = self._initialize(X, y)\n"
          ]
        },
        {
          "output_type": "stream",
          "name": "stdout",
          "text": [
            "Epoch 1/15\n",
            "88/88 [==============================] - 2s 4ms/step - loss: 79.1277 - accuracy: 0.1017\n",
            "Epoch 2/15\n",
            "88/88 [==============================] - 0s 4ms/step - loss: 11.2163 - accuracy: 0.1056\n",
            "Epoch 3/15\n",
            "88/88 [==============================] - 0s 4ms/step - loss: 37.3828 - accuracy: 0.1048\n",
            "Epoch 4/15\n",
            "88/88 [==============================] - 0s 4ms/step - loss: 4.0638 - accuracy: 0.1013\n",
            "Epoch 5/15\n",
            "88/88 [==============================] - 0s 4ms/step - loss: 14.6462 - accuracy: 0.1021\n",
            "Epoch 6/15\n",
            "88/88 [==============================] - 0s 4ms/step - loss: 2.3207 - accuracy: 0.1034\n",
            "Epoch 7/15\n",
            "88/88 [==============================] - 0s 4ms/step - loss: 5.0933 - accuracy: 0.1047\n",
            "Epoch 8/15\n",
            "88/88 [==============================] - 0s 4ms/step - loss: 2.3088 - accuracy: 0.1048\n",
            "Epoch 9/15\n",
            "88/88 [==============================] - 0s 4ms/step - loss: 5.4457 - accuracy: 0.1064\n",
            "Epoch 10/15\n",
            "88/88 [==============================] - 0s 4ms/step - loss: 3.5298 - accuracy: 0.1049\n",
            "Epoch 11/15\n",
            "88/88 [==============================] - 0s 4ms/step - loss: 2.3115 - accuracy: 0.1027\n",
            "Epoch 12/15\n",
            "88/88 [==============================] - 0s 4ms/step - loss: 2.3090 - accuracy: 0.1079\n",
            "Epoch 13/15\n",
            "88/88 [==============================] - 0s 4ms/step - loss: 2.3094 - accuracy: 0.1044\n",
            "Epoch 14/15\n",
            "88/88 [==============================] - 0s 4ms/step - loss: 4.3188 - accuracy: 0.1036\n",
            "Epoch 15/15\n",
            "88/88 [==============================] - 0s 5ms/step - loss: 2.3104 - accuracy: 0.1034\n",
            "30/30 [==============================] - 0s 5ms/step\n"
          ]
        },
        {
          "output_type": "stream",
          "name": "stderr",
          "text": [
            "/usr/local/lib/python3.10/dist-packages/scikeras/wrappers.py:915: UserWarning: ``build_fn`` will be renamed to ``model`` in a future release, at which point use of ``build_fn`` will raise an Error instead.\n",
            "  X, y = self._initialize(X, y)\n"
          ]
        },
        {
          "output_type": "stream",
          "name": "stdout",
          "text": [
            "Epoch 1/15\n",
            "88/88 [==============================] - 2s 4ms/step - loss: 58.5831 - accuracy: 0.1039\n",
            "Epoch 2/15\n",
            "88/88 [==============================] - 0s 4ms/step - loss: 23.7710 - accuracy: 0.1033\n",
            "Epoch 3/15\n",
            "88/88 [==============================] - 0s 4ms/step - loss: 44.6181 - accuracy: 0.1034\n",
            "Epoch 4/15\n",
            "88/88 [==============================] - 0s 4ms/step - loss: 8.7067 - accuracy: 0.1038\n",
            "Epoch 5/15\n",
            "88/88 [==============================] - 0s 4ms/step - loss: 24.5017 - accuracy: 0.1026\n",
            "Epoch 6/15\n",
            "88/88 [==============================] - 0s 4ms/step - loss: 45.1309 - accuracy: 0.1025\n",
            "Epoch 7/15\n",
            "88/88 [==============================] - 0s 4ms/step - loss: 4.0894 - accuracy: 0.1054\n",
            "Epoch 8/15\n",
            "88/88 [==============================] - 0s 4ms/step - loss: 2.3085 - accuracy: 0.1022\n",
            "Epoch 9/15\n",
            "88/88 [==============================] - 0s 4ms/step - loss: 4.4244 - accuracy: 0.1001\n",
            "Epoch 10/15\n",
            "88/88 [==============================] - 0s 4ms/step - loss: 2.3105 - accuracy: 0.1028\n",
            "Epoch 11/15\n",
            "88/88 [==============================] - 0s 4ms/step - loss: 97.4533 - accuracy: 0.1035\n",
            "Epoch 12/15\n",
            "88/88 [==============================] - 0s 4ms/step - loss: 2.3091 - accuracy: 0.1032\n",
            "Epoch 13/15\n",
            "88/88 [==============================] - 0s 4ms/step - loss: 8.1141 - accuracy: 0.1026\n",
            "Epoch 14/15\n",
            "88/88 [==============================] - 0s 4ms/step - loss: 15.2023 - accuracy: 0.1055\n",
            "Epoch 15/15\n",
            "88/88 [==============================] - 0s 4ms/step - loss: 2.3096 - accuracy: 0.1033\n",
            "30/30 [==============================] - 0s 4ms/step\n"
          ]
        },
        {
          "output_type": "stream",
          "name": "stderr",
          "text": [
            "/usr/local/lib/python3.10/dist-packages/scikeras/wrappers.py:915: UserWarning: ``build_fn`` will be renamed to ``model`` in a future release, at which point use of ``build_fn`` will raise an Error instead.\n",
            "  X, y = self._initialize(X, y)\n"
          ]
        },
        {
          "output_type": "stream",
          "name": "stdout",
          "text": [
            "Epoch 1/15\n",
            "88/88 [==============================] - 2s 5ms/step - loss: 142.5249 - accuracy: 0.1044\n",
            "Epoch 2/15\n",
            "88/88 [==============================] - 0s 4ms/step - loss: 79.6991 - accuracy: 0.1037\n",
            "Epoch 3/15\n",
            "88/88 [==============================] - 0s 4ms/step - loss: 4.9262 - accuracy: 0.1013\n",
            "Epoch 4/15\n",
            "88/88 [==============================] - 0s 4ms/step - loss: 27.7090 - accuracy: 0.1052\n",
            "Epoch 5/15\n",
            "88/88 [==============================] - 0s 4ms/step - loss: 29.7300 - accuracy: 0.1053\n",
            "Epoch 6/15\n",
            "88/88 [==============================] - 0s 4ms/step - loss: 10.6659 - accuracy: 0.1052\n",
            "Epoch 7/15\n",
            "88/88 [==============================] - 0s 4ms/step - loss: 2.3096 - accuracy: 0.1042\n",
            "Epoch 8/15\n",
            "88/88 [==============================] - 0s 4ms/step - loss: 14.3978 - accuracy: 0.1050\n",
            "Epoch 9/15\n",
            "88/88 [==============================] - 0s 4ms/step - loss: 3.6349 - accuracy: 0.1050\n",
            "Epoch 10/15\n",
            "88/88 [==============================] - 0s 4ms/step - loss: 3.0407 - accuracy: 0.1026\n",
            "Epoch 11/15\n",
            "88/88 [==============================] - 0s 4ms/step - loss: 4.3763 - accuracy: 0.1038\n",
            "Epoch 12/15\n",
            "88/88 [==============================] - 0s 4ms/step - loss: 5.7539 - accuracy: 0.1026\n",
            "Epoch 13/15\n",
            "88/88 [==============================] - 0s 4ms/step - loss: 2.3093 - accuracy: 0.1037\n",
            "Epoch 14/15\n",
            "88/88 [==============================] - 0s 4ms/step - loss: 2.3099 - accuracy: 0.1037\n",
            "Epoch 15/15\n",
            "88/88 [==============================] - 0s 4ms/step - loss: 4.0813 - accuracy: 0.1048\n",
            "30/30 [==============================] - 0s 2ms/step\n"
          ]
        },
        {
          "output_type": "stream",
          "name": "stderr",
          "text": [
            "/usr/local/lib/python3.10/dist-packages/scikeras/wrappers.py:915: UserWarning: ``build_fn`` will be renamed to ``model`` in a future release, at which point use of ``build_fn`` will raise an Error instead.\n",
            "  X, y = self._initialize(X, y)\n"
          ]
        },
        {
          "output_type": "stream",
          "name": "stdout",
          "text": [
            "Epoch 1/15\n",
            "88/88 [==============================] - 2s 6ms/step - loss: 59.9093 - accuracy: 0.1043\n",
            "Epoch 2/15\n",
            "88/88 [==============================] - 1s 6ms/step - loss: 12.0245 - accuracy: 0.1056\n",
            "Epoch 3/15\n",
            "88/88 [==============================] - 0s 5ms/step - loss: 20.0120 - accuracy: 0.1047\n",
            "Epoch 4/15\n",
            "88/88 [==============================] - 0s 4ms/step - loss: 12.5715 - accuracy: 0.1034\n",
            "Epoch 5/15\n",
            "88/88 [==============================] - 0s 4ms/step - loss: 15.3799 - accuracy: 0.1038\n",
            "Epoch 6/15\n",
            "88/88 [==============================] - 0s 4ms/step - loss: 16.7824 - accuracy: 0.1032\n",
            "Epoch 7/15\n",
            "88/88 [==============================] - 0s 4ms/step - loss: 9.5437 - accuracy: 0.1014\n",
            "Epoch 8/15\n",
            "88/88 [==============================] - 0s 4ms/step - loss: 2.5764 - accuracy: 0.1035\n",
            "Epoch 9/15\n",
            "88/88 [==============================] - 0s 4ms/step - loss: 2.3109 - accuracy: 0.1058\n",
            "Epoch 10/15\n",
            "88/88 [==============================] - 0s 4ms/step - loss: 3.0247 - accuracy: 0.1073\n",
            "Epoch 11/15\n",
            "88/88 [==============================] - 0s 4ms/step - loss: 2.3451 - accuracy: 0.1046\n",
            "Epoch 12/15\n",
            "88/88 [==============================] - 0s 4ms/step - loss: 2.3096 - accuracy: 0.1056\n",
            "Epoch 13/15\n",
            "88/88 [==============================] - 0s 4ms/step - loss: 2.3104 - accuracy: 0.1024\n",
            "Epoch 14/15\n",
            "88/88 [==============================] - 0s 4ms/step - loss: 2.3103 - accuracy: 0.1020\n",
            "Epoch 15/15\n",
            "88/88 [==============================] - 0s 4ms/step - loss: 2.3109 - accuracy: 0.1051\n",
            "30/30 [==============================] - 0s 2ms/step\n"
          ]
        },
        {
          "output_type": "stream",
          "name": "stderr",
          "text": [
            "/usr/local/lib/python3.10/dist-packages/scikeras/wrappers.py:915: UserWarning: ``build_fn`` will be renamed to ``model`` in a future release, at which point use of ``build_fn`` will raise an Error instead.\n",
            "  X, y = self._initialize(X, y)\n"
          ]
        },
        {
          "output_type": "stream",
          "name": "stdout",
          "text": [
            "Epoch 1/15\n",
            "352/352 [==============================] - 5s 4ms/step - loss: 1.0109 - accuracy: 0.6668\n",
            "Epoch 2/15\n",
            "352/352 [==============================] - 1s 4ms/step - loss: 0.5401 - accuracy: 0.8563\n",
            "Epoch 3/15\n",
            "352/352 [==============================] - 1s 4ms/step - loss: 0.4526 - accuracy: 0.8830\n",
            "Epoch 4/15\n",
            "352/352 [==============================] - 1s 4ms/step - loss: 0.4106 - accuracy: 0.8945\n",
            "Epoch 5/15\n",
            "352/352 [==============================] - 1s 4ms/step - loss: 0.3884 - accuracy: 0.8996\n",
            "Epoch 6/15\n",
            "352/352 [==============================] - 1s 4ms/step - loss: 0.3605 - accuracy: 0.9063\n",
            "Epoch 7/15\n",
            "352/352 [==============================] - 1s 4ms/step - loss: 0.3522 - accuracy: 0.9126\n",
            "Epoch 8/15\n",
            "352/352 [==============================] - 1s 4ms/step - loss: 0.3383 - accuracy: 0.9135\n",
            "Epoch 9/15\n",
            "352/352 [==============================] - 2s 5ms/step - loss: 0.3337 - accuracy: 0.9157\n",
            "Epoch 10/15\n",
            "352/352 [==============================] - 2s 5ms/step - loss: 0.3173 - accuracy: 0.9190\n",
            "Epoch 11/15\n",
            "352/352 [==============================] - 1s 4ms/step - loss: 0.3140 - accuracy: 0.9195\n",
            "Epoch 12/15\n",
            "352/352 [==============================] - 1s 4ms/step - loss: 0.3148 - accuracy: 0.9190\n",
            "Epoch 13/15\n",
            "352/352 [==============================] - 1s 4ms/step - loss: 0.2957 - accuracy: 0.9238\n",
            "Epoch 14/15\n",
            "352/352 [==============================] - 1s 4ms/step - loss: 0.3031 - accuracy: 0.9227\n",
            "Epoch 15/15\n",
            "352/352 [==============================] - 1s 4ms/step - loss: 0.3010 - accuracy: 0.9218\n",
            "118/118 [==============================] - 0s 2ms/step\n"
          ]
        },
        {
          "output_type": "stream",
          "name": "stderr",
          "text": [
            "/usr/local/lib/python3.10/dist-packages/scikeras/wrappers.py:915: UserWarning: ``build_fn`` will be renamed to ``model`` in a future release, at which point use of ``build_fn`` will raise an Error instead.\n",
            "  X, y = self._initialize(X, y)\n"
          ]
        },
        {
          "output_type": "stream",
          "name": "stdout",
          "text": [
            "Epoch 1/15\n",
            "352/352 [==============================] - 3s 5ms/step - loss: 1.0096 - accuracy: 0.6713\n",
            "Epoch 2/15\n",
            "352/352 [==============================] - 2s 5ms/step - loss: 0.5603 - accuracy: 0.8498\n",
            "Epoch 3/15\n",
            "352/352 [==============================] - 1s 4ms/step - loss: 0.4708 - accuracy: 0.8758\n",
            "Epoch 4/15\n",
            "352/352 [==============================] - 1s 4ms/step - loss: 0.4295 - accuracy: 0.8884\n",
            "Epoch 5/15\n",
            "352/352 [==============================] - 1s 4ms/step - loss: 0.4023 - accuracy: 0.8964\n",
            "Epoch 6/15\n",
            "352/352 [==============================] - 1s 4ms/step - loss: 0.3822 - accuracy: 0.9023\n",
            "Epoch 7/15\n",
            "352/352 [==============================] - 1s 4ms/step - loss: 0.3572 - accuracy: 0.9080\n",
            "Epoch 8/15\n",
            "352/352 [==============================] - 1s 4ms/step - loss: 0.3554 - accuracy: 0.9099\n",
            "Epoch 9/15\n",
            "352/352 [==============================] - 1s 4ms/step - loss: 0.3463 - accuracy: 0.9110\n",
            "Epoch 10/15\n",
            "352/352 [==============================] - 2s 5ms/step - loss: 0.3379 - accuracy: 0.9133\n",
            "Epoch 11/15\n",
            "352/352 [==============================] - 2s 5ms/step - loss: 0.3340 - accuracy: 0.9149\n",
            "Epoch 12/15\n",
            "352/352 [==============================] - 1s 4ms/step - loss: 0.3205 - accuracy: 0.9182\n",
            "Epoch 13/15\n",
            "352/352 [==============================] - 1s 4ms/step - loss: 0.3164 - accuracy: 0.9179\n",
            "Epoch 14/15\n",
            "352/352 [==============================] - 1s 4ms/step - loss: 0.3203 - accuracy: 0.9175\n",
            "Epoch 15/15\n",
            "352/352 [==============================] - 1s 4ms/step - loss: 0.3082 - accuracy: 0.9218\n",
            "118/118 [==============================] - 0s 2ms/step\n"
          ]
        },
        {
          "output_type": "stream",
          "name": "stderr",
          "text": [
            "/usr/local/lib/python3.10/dist-packages/scikeras/wrappers.py:915: UserWarning: ``build_fn`` will be renamed to ``model`` in a future release, at which point use of ``build_fn`` will raise an Error instead.\n",
            "  X, y = self._initialize(X, y)\n"
          ]
        },
        {
          "output_type": "stream",
          "name": "stdout",
          "text": [
            "Epoch 1/15\n",
            "352/352 [==============================] - 3s 4ms/step - loss: 1.0191 - accuracy: 0.6613\n",
            "Epoch 2/15\n",
            "352/352 [==============================] - 2s 4ms/step - loss: 0.5317 - accuracy: 0.8583\n",
            "Epoch 3/15\n",
            "352/352 [==============================] - 2s 6ms/step - loss: 0.4456 - accuracy: 0.8851\n",
            "Epoch 4/15\n",
            "352/352 [==============================] - 2s 4ms/step - loss: 0.4172 - accuracy: 0.8939\n",
            "Epoch 5/15\n",
            "352/352 [==============================] - 1s 4ms/step - loss: 0.3902 - accuracy: 0.9004\n",
            "Epoch 6/15\n",
            "352/352 [==============================] - 1s 4ms/step - loss: 0.3771 - accuracy: 0.9039\n",
            "Epoch 7/15\n",
            "352/352 [==============================] - 1s 4ms/step - loss: 0.3581 - accuracy: 0.9068\n",
            "Epoch 8/15\n",
            "352/352 [==============================] - 1s 4ms/step - loss: 0.3505 - accuracy: 0.9098\n",
            "Epoch 9/15\n",
            "352/352 [==============================] - 1s 4ms/step - loss: 0.3347 - accuracy: 0.9136\n",
            "Epoch 10/15\n",
            "352/352 [==============================] - 1s 4ms/step - loss: 0.3351 - accuracy: 0.9137\n",
            "Epoch 11/15\n",
            "352/352 [==============================] - 2s 7ms/step - loss: 0.3251 - accuracy: 0.9158\n",
            "Epoch 12/15\n",
            "352/352 [==============================] - 2s 5ms/step - loss: 0.3231 - accuracy: 0.9172\n",
            "Epoch 13/15\n",
            "352/352 [==============================] - 1s 4ms/step - loss: 0.3123 - accuracy: 0.9185\n",
            "Epoch 14/15\n",
            "352/352 [==============================] - 1s 4ms/step - loss: 0.3040 - accuracy: 0.9198\n",
            "Epoch 15/15\n",
            "352/352 [==============================] - 1s 4ms/step - loss: 0.3038 - accuracy: 0.9211\n",
            "118/118 [==============================] - 0s 3ms/step\n"
          ]
        },
        {
          "output_type": "stream",
          "name": "stderr",
          "text": [
            "/usr/local/lib/python3.10/dist-packages/scikeras/wrappers.py:915: UserWarning: ``build_fn`` will be renamed to ``model`` in a future release, at which point use of ``build_fn`` will raise an Error instead.\n",
            "  X, y = self._initialize(X, y)\n"
          ]
        },
        {
          "output_type": "stream",
          "name": "stdout",
          "text": [
            "Epoch 1/15\n",
            "352/352 [==============================] - 3s 4ms/step - loss: 1.1092 - accuracy: 0.6385\n",
            "Epoch 2/15\n",
            "352/352 [==============================] - 1s 4ms/step - loss: 0.5908 - accuracy: 0.8392\n",
            "Epoch 3/15\n",
            "352/352 [==============================] - 1s 4ms/step - loss: 0.5171 - accuracy: 0.8644\n",
            "Epoch 4/15\n",
            "352/352 [==============================] - 1s 4ms/step - loss: 0.4766 - accuracy: 0.8768\n",
            "Epoch 5/15\n",
            "352/352 [==============================] - 1s 4ms/step - loss: 0.4400 - accuracy: 0.8883\n",
            "Epoch 6/15\n",
            "352/352 [==============================] - 1s 4ms/step - loss: 0.4154 - accuracy: 0.8917\n",
            "Epoch 7/15\n",
            "352/352 [==============================] - 1s 4ms/step - loss: 0.3990 - accuracy: 0.8972\n",
            "Epoch 8/15\n",
            "352/352 [==============================] - 2s 5ms/step - loss: 0.3925 - accuracy: 0.8985\n",
            "Epoch 9/15\n",
            "352/352 [==============================] - 2s 5ms/step - loss: 0.3753 - accuracy: 0.9041\n",
            "Epoch 10/15\n",
            "352/352 [==============================] - 1s 4ms/step - loss: 0.3647 - accuracy: 0.9057\n",
            "Epoch 11/15\n",
            "352/352 [==============================] - 1s 4ms/step - loss: 0.3697 - accuracy: 0.9054\n",
            "Epoch 12/15\n",
            "352/352 [==============================] - 1s 4ms/step - loss: 0.3579 - accuracy: 0.9083\n",
            "Epoch 13/15\n",
            "352/352 [==============================] - 1s 4ms/step - loss: 0.3459 - accuracy: 0.9111\n",
            "Epoch 14/15\n",
            "352/352 [==============================] - 1s 4ms/step - loss: 0.3449 - accuracy: 0.9113\n",
            "Epoch 15/15\n",
            "352/352 [==============================] - 1s 4ms/step - loss: 0.3400 - accuracy: 0.9142\n",
            "118/118 [==============================] - 0s 2ms/step\n"
          ]
        },
        {
          "output_type": "stream",
          "name": "stderr",
          "text": [
            "/usr/local/lib/python3.10/dist-packages/scikeras/wrappers.py:915: UserWarning: ``build_fn`` will be renamed to ``model`` in a future release, at which point use of ``build_fn`` will raise an Error instead.\n",
            "  X, y = self._initialize(X, y)\n"
          ]
        },
        {
          "output_type": "stream",
          "name": "stdout",
          "text": [
            "Epoch 1/10\n",
            "1407/1407 [==============================] - 7s 4ms/step - loss: 0.7771 - accuracy: 0.7506\n",
            "Epoch 2/10\n",
            "1407/1407 [==============================] - 5s 4ms/step - loss: 0.3271 - accuracy: 0.9090\n",
            "Epoch 3/10\n",
            "1407/1407 [==============================] - 5s 4ms/step - loss: 0.2533 - accuracy: 0.9313\n",
            "Epoch 4/10\n",
            "1407/1407 [==============================] - 6s 4ms/step - loss: 0.2132 - accuracy: 0.9426\n",
            "Epoch 5/10\n",
            "1407/1407 [==============================] - 5s 4ms/step - loss: 0.1880 - accuracy: 0.9496\n",
            "Epoch 6/10\n",
            "1407/1407 [==============================] - 6s 4ms/step - loss: 0.1655 - accuracy: 0.9551\n",
            "Epoch 7/10\n",
            "1407/1407 [==============================] - 5s 4ms/step - loss: 0.1561 - accuracy: 0.9572\n",
            "Epoch 8/10\n",
            "1407/1407 [==============================] - 5s 4ms/step - loss: 0.1412 - accuracy: 0.9628\n",
            "Epoch 9/10\n",
            "1407/1407 [==============================] - 5s 4ms/step - loss: 0.1290 - accuracy: 0.9647\n",
            "Epoch 10/10\n",
            "1407/1407 [==============================] - 5s 3ms/step - loss: 0.1237 - accuracy: 0.9658\n",
            "469/469 [==============================] - 1s 2ms/step\n"
          ]
        },
        {
          "output_type": "stream",
          "name": "stderr",
          "text": [
            "/usr/local/lib/python3.10/dist-packages/scikeras/wrappers.py:915: UserWarning: ``build_fn`` will be renamed to ``model`` in a future release, at which point use of ``build_fn`` will raise an Error instead.\n",
            "  X, y = self._initialize(X, y)\n"
          ]
        },
        {
          "output_type": "stream",
          "name": "stdout",
          "text": [
            "Epoch 1/10\n",
            "1407/1407 [==============================] - 6s 4ms/step - loss: 0.7810 - accuracy: 0.7527\n",
            "Epoch 2/10\n",
            "1407/1407 [==============================] - 6s 4ms/step - loss: 0.3309 - accuracy: 0.9099\n",
            "Epoch 3/10\n",
            "1407/1407 [==============================] - 5s 4ms/step - loss: 0.2525 - accuracy: 0.9327\n",
            "Epoch 4/10\n",
            "1407/1407 [==============================] - 6s 4ms/step - loss: 0.2099 - accuracy: 0.9433\n",
            "Epoch 5/10\n",
            "1407/1407 [==============================] - 5s 4ms/step - loss: 0.1867 - accuracy: 0.9505\n",
            "Epoch 6/10\n",
            "1407/1407 [==============================] - 5s 4ms/step - loss: 0.1706 - accuracy: 0.9543\n",
            "Epoch 7/10\n",
            "1407/1407 [==============================] - 6s 4ms/step - loss: 0.1518 - accuracy: 0.9593\n",
            "Epoch 8/10\n",
            "1407/1407 [==============================] - 5s 4ms/step - loss: 0.1431 - accuracy: 0.9605\n",
            "Epoch 9/10\n",
            "1407/1407 [==============================] - 6s 4ms/step - loss: 0.1304 - accuracy: 0.9657\n",
            "Epoch 10/10\n",
            "1407/1407 [==============================] - 5s 4ms/step - loss: 0.1251 - accuracy: 0.9663\n",
            "469/469 [==============================] - 1s 2ms/step\n"
          ]
        },
        {
          "output_type": "stream",
          "name": "stderr",
          "text": [
            "/usr/local/lib/python3.10/dist-packages/scikeras/wrappers.py:915: UserWarning: ``build_fn`` will be renamed to ``model`` in a future release, at which point use of ``build_fn`` will raise an Error instead.\n",
            "  X, y = self._initialize(X, y)\n"
          ]
        },
        {
          "output_type": "stream",
          "name": "stdout",
          "text": [
            "Epoch 1/10\n",
            "1407/1407 [==============================] - 6s 4ms/step - loss: 0.7789 - accuracy: 0.7541\n",
            "Epoch 2/10\n",
            "1407/1407 [==============================] - 6s 4ms/step - loss: 0.3372 - accuracy: 0.9077\n",
            "Epoch 3/10\n",
            "1407/1407 [==============================] - 5s 4ms/step - loss: 0.2505 - accuracy: 0.9326\n",
            "Epoch 4/10\n",
            "1407/1407 [==============================] - 5s 4ms/step - loss: 0.2158 - accuracy: 0.9429\n",
            "Epoch 5/10\n",
            "1407/1407 [==============================] - 6s 4ms/step - loss: 0.1839 - accuracy: 0.9514\n",
            "Epoch 6/10\n",
            "1407/1407 [==============================] - 5s 4ms/step - loss: 0.1676 - accuracy: 0.9548\n",
            "Epoch 7/10\n",
            "1407/1407 [==============================] - 6s 4ms/step - loss: 0.1472 - accuracy: 0.9606\n",
            "Epoch 8/10\n",
            "1407/1407 [==============================] - 5s 4ms/step - loss: 0.1357 - accuracy: 0.9629\n",
            "Epoch 9/10\n",
            "1407/1407 [==============================] - 5s 4ms/step - loss: 0.1239 - accuracy: 0.9648\n",
            "Epoch 10/10\n",
            "1407/1407 [==============================] - 6s 4ms/step - loss: 0.1213 - accuracy: 0.9667\n",
            "469/469 [==============================] - 1s 2ms/step\n"
          ]
        },
        {
          "output_type": "stream",
          "name": "stderr",
          "text": [
            "/usr/local/lib/python3.10/dist-packages/scikeras/wrappers.py:915: UserWarning: ``build_fn`` will be renamed to ``model`` in a future release, at which point use of ``build_fn`` will raise an Error instead.\n",
            "  X, y = self._initialize(X, y)\n"
          ]
        },
        {
          "output_type": "stream",
          "name": "stdout",
          "text": [
            "Epoch 1/10\n",
            "1407/1407 [==============================] - 7s 4ms/step - loss: 0.7761 - accuracy: 0.7550\n",
            "Epoch 2/10\n",
            "1407/1407 [==============================] - 5s 4ms/step - loss: 0.3390 - accuracy: 0.9079\n",
            "Epoch 3/10\n",
            "1407/1407 [==============================] - 5s 4ms/step - loss: 0.2560 - accuracy: 0.9312\n",
            "Epoch 4/10\n",
            "1407/1407 [==============================] - 6s 4ms/step - loss: 0.2091 - accuracy: 0.9444\n",
            "Epoch 5/10\n",
            "1407/1407 [==============================] - 5s 4ms/step - loss: 0.1869 - accuracy: 0.9499\n",
            "Epoch 6/10\n",
            "1407/1407 [==============================] - 6s 4ms/step - loss: 0.1691 - accuracy: 0.9551\n",
            "Epoch 7/10\n",
            "1407/1407 [==============================] - 6s 4ms/step - loss: 0.1497 - accuracy: 0.9593\n",
            "Epoch 8/10\n",
            "1407/1407 [==============================] - 6s 4ms/step - loss: 0.1390 - accuracy: 0.9626\n",
            "Epoch 9/10\n",
            "1407/1407 [==============================] - 5s 4ms/step - loss: 0.1339 - accuracy: 0.9644\n",
            "Epoch 10/10\n",
            "1407/1407 [==============================] - 5s 4ms/step - loss: 0.1239 - accuracy: 0.9673\n",
            "469/469 [==============================] - 1s 2ms/step\n"
          ]
        },
        {
          "output_type": "stream",
          "name": "stderr",
          "text": [
            "/usr/local/lib/python3.10/dist-packages/scikeras/wrappers.py:915: UserWarning: ``build_fn`` will be renamed to ``model`` in a future release, at which point use of ``build_fn`` will raise an Error instead.\n",
            "  X, y = self._initialize(X, y)\n"
          ]
        },
        {
          "output_type": "stream",
          "name": "stdout",
          "text": [
            "Epoch 1/20\n",
            "704/704 [==============================] - 4s 4ms/step - loss: 0.8487 - accuracy: 0.7542\n",
            "Epoch 2/20\n",
            "704/704 [==============================] - 3s 4ms/step - loss: 0.6560 - accuracy: 0.8282\n",
            "Epoch 3/20\n",
            "704/704 [==============================] - 3s 5ms/step - loss: 0.6109 - accuracy: 0.8417\n",
            "Epoch 4/20\n",
            "704/704 [==============================] - 3s 4ms/step - loss: 0.5854 - accuracy: 0.8497\n",
            "Epoch 5/20\n",
            "704/704 [==============================] - 3s 4ms/step - loss: 0.5971 - accuracy: 0.8489\n",
            "Epoch 6/20\n",
            "704/704 [==============================] - 3s 4ms/step - loss: 0.5870 - accuracy: 0.8500\n",
            "Epoch 7/20\n",
            "704/704 [==============================] - 3s 4ms/step - loss: 0.5939 - accuracy: 0.8476\n",
            "Epoch 8/20\n",
            "704/704 [==============================] - 3s 5ms/step - loss: 0.5793 - accuracy: 0.8524\n",
            "Epoch 9/20\n",
            "704/704 [==============================] - 3s 4ms/step - loss: 0.5923 - accuracy: 0.8494\n",
            "Epoch 10/20\n",
            "704/704 [==============================] - 3s 4ms/step - loss: 0.5944 - accuracy: 0.8494\n",
            "Epoch 11/20\n",
            "704/704 [==============================] - 3s 4ms/step - loss: 0.5934 - accuracy: 0.8476\n",
            "Epoch 12/20\n",
            "704/704 [==============================] - 3s 4ms/step - loss: 0.5603 - accuracy: 0.8570\n",
            "Epoch 13/20\n",
            "704/704 [==============================] - 3s 5ms/step - loss: 0.5494 - accuracy: 0.8606\n",
            "Epoch 14/20\n",
            "704/704 [==============================] - 3s 4ms/step - loss: 0.5859 - accuracy: 0.8520\n",
            "Epoch 15/20\n",
            "704/704 [==============================] - 3s 4ms/step - loss: 0.5777 - accuracy: 0.8521\n",
            "Epoch 16/20\n",
            "704/704 [==============================] - 3s 4ms/step - loss: 0.5864 - accuracy: 0.8525\n",
            "Epoch 17/20\n",
            "704/704 [==============================] - 3s 4ms/step - loss: 0.5573 - accuracy: 0.8556\n",
            "Epoch 18/20\n",
            "704/704 [==============================] - 3s 4ms/step - loss: 0.5752 - accuracy: 0.8532\n",
            "Epoch 19/20\n",
            "704/704 [==============================] - 3s 4ms/step - loss: 0.5506 - accuracy: 0.8613\n",
            "Epoch 20/20\n",
            "704/704 [==============================] - 3s 4ms/step - loss: 0.5829 - accuracy: 0.8517\n",
            "235/235 [==============================] - 0s 2ms/step\n"
          ]
        },
        {
          "output_type": "stream",
          "name": "stderr",
          "text": [
            "/usr/local/lib/python3.10/dist-packages/scikeras/wrappers.py:915: UserWarning: ``build_fn`` will be renamed to ``model`` in a future release, at which point use of ``build_fn`` will raise an Error instead.\n",
            "  X, y = self._initialize(X, y)\n"
          ]
        },
        {
          "output_type": "stream",
          "name": "stdout",
          "text": [
            "Epoch 1/20\n",
            "704/704 [==============================] - 4s 4ms/step - loss: 0.8314 - accuracy: 0.7560\n",
            "Epoch 2/20\n",
            "704/704 [==============================] - 3s 4ms/step - loss: 0.6398 - accuracy: 0.8322\n",
            "Epoch 3/20\n",
            "704/704 [==============================] - 2s 3ms/step - loss: 0.5963 - accuracy: 0.8429\n",
            "Epoch 4/20\n",
            "704/704 [==============================] - 2s 3ms/step - loss: 0.6115 - accuracy: 0.8434\n",
            "Epoch 5/20\n",
            "704/704 [==============================] - 2s 3ms/step - loss: 0.5795 - accuracy: 0.8501\n",
            "Epoch 6/20\n",
            "704/704 [==============================] - 3s 4ms/step - loss: 0.5981 - accuracy: 0.8475\n",
            "Epoch 7/20\n",
            "704/704 [==============================] - 3s 4ms/step - loss: 0.5947 - accuracy: 0.8477\n",
            "Epoch 8/20\n",
            "704/704 [==============================] - 3s 4ms/step - loss: 0.5688 - accuracy: 0.8535\n",
            "Epoch 9/20\n",
            "704/704 [==============================] - 3s 4ms/step - loss: 0.5915 - accuracy: 0.8488\n",
            "Epoch 10/20\n",
            "704/704 [==============================] - 3s 4ms/step - loss: 0.5552 - accuracy: 0.8592\n",
            "Epoch 11/20\n",
            "704/704 [==============================] - 3s 5ms/step - loss: 0.5643 - accuracy: 0.8562\n",
            "Epoch 12/20\n",
            "704/704 [==============================] - 2s 4ms/step - loss: 0.5759 - accuracy: 0.8533\n",
            "Epoch 13/20\n",
            "704/704 [==============================] - 3s 4ms/step - loss: 0.5838 - accuracy: 0.8477\n",
            "Epoch 14/20\n",
            "704/704 [==============================] - 3s 4ms/step - loss: 0.5647 - accuracy: 0.8555\n",
            "Epoch 15/20\n",
            "704/704 [==============================] - 3s 4ms/step - loss: 0.5523 - accuracy: 0.8570\n",
            "Epoch 16/20\n",
            "704/704 [==============================] - 3s 5ms/step - loss: 0.5549 - accuracy: 0.8541\n",
            "Epoch 17/20\n",
            "704/704 [==============================] - 3s 4ms/step - loss: 0.5906 - accuracy: 0.8471\n",
            "Epoch 18/20\n",
            "704/704 [==============================] - 3s 4ms/step - loss: 0.5602 - accuracy: 0.8544\n",
            "Epoch 19/20\n",
            "704/704 [==============================] - 3s 4ms/step - loss: 0.5653 - accuracy: 0.8540\n",
            "Epoch 20/20\n",
            "704/704 [==============================] - 3s 4ms/step - loss: 0.5739 - accuracy: 0.8500\n",
            "235/235 [==============================] - 0s 2ms/step\n"
          ]
        },
        {
          "output_type": "stream",
          "name": "stderr",
          "text": [
            "/usr/local/lib/python3.10/dist-packages/scikeras/wrappers.py:915: UserWarning: ``build_fn`` will be renamed to ``model`` in a future release, at which point use of ``build_fn`` will raise an Error instead.\n",
            "  X, y = self._initialize(X, y)\n"
          ]
        },
        {
          "output_type": "stream",
          "name": "stdout",
          "text": [
            "Epoch 1/20\n",
            "704/704 [==============================] - 4s 3ms/step - loss: 0.8343 - accuracy: 0.7521\n",
            "Epoch 2/20\n",
            "704/704 [==============================] - 3s 4ms/step - loss: 0.6628 - accuracy: 0.8225\n",
            "Epoch 3/20\n",
            "704/704 [==============================] - 3s 5ms/step - loss: 0.6425 - accuracy: 0.8324\n",
            "Epoch 4/20\n",
            "704/704 [==============================] - 2s 3ms/step - loss: 0.6109 - accuracy: 0.8412\n",
            "Epoch 5/20\n",
            "704/704 [==============================] - 3s 4ms/step - loss: 0.6002 - accuracy: 0.8456\n",
            "Epoch 6/20\n",
            "704/704 [==============================] - 2s 3ms/step - loss: 0.5807 - accuracy: 0.8505\n",
            "Epoch 7/20\n",
            "704/704 [==============================] - 3s 4ms/step - loss: 0.5853 - accuracy: 0.8470\n",
            "Epoch 8/20\n",
            "704/704 [==============================] - 3s 4ms/step - loss: 0.5673 - accuracy: 0.8561\n",
            "Epoch 9/20\n",
            "704/704 [==============================] - 2s 4ms/step - loss: 0.5972 - accuracy: 0.8470\n",
            "Epoch 10/20\n",
            "704/704 [==============================] - 3s 4ms/step - loss: 0.5882 - accuracy: 0.8519\n",
            "Epoch 11/20\n",
            "704/704 [==============================] - 2s 4ms/step - loss: 0.5780 - accuracy: 0.8504\n",
            "Epoch 12/20\n",
            "704/704 [==============================] - 3s 4ms/step - loss: 0.5787 - accuracy: 0.8551\n",
            "Epoch 13/20\n",
            "704/704 [==============================] - 3s 4ms/step - loss: 0.5540 - accuracy: 0.8557\n",
            "Epoch 14/20\n",
            "704/704 [==============================] - 3s 4ms/step - loss: 0.6010 - accuracy: 0.8470\n",
            "Epoch 15/20\n",
            "704/704 [==============================] - 2s 4ms/step - loss: 0.5540 - accuracy: 0.8607\n",
            "Epoch 16/20\n",
            "704/704 [==============================] - 3s 4ms/step - loss: 0.5727 - accuracy: 0.8562\n",
            "Epoch 17/20\n",
            "704/704 [==============================] - 3s 4ms/step - loss: 0.5885 - accuracy: 0.8527\n",
            "Epoch 18/20\n",
            "704/704 [==============================] - 3s 4ms/step - loss: 0.5670 - accuracy: 0.8538\n",
            "Epoch 19/20\n",
            "704/704 [==============================] - 3s 4ms/step - loss: 0.5629 - accuracy: 0.8556\n",
            "Epoch 20/20\n",
            "704/704 [==============================] - 3s 4ms/step - loss: 0.5941 - accuracy: 0.8502\n",
            "235/235 [==============================] - 0s 2ms/step\n"
          ]
        },
        {
          "output_type": "stream",
          "name": "stderr",
          "text": [
            "/usr/local/lib/python3.10/dist-packages/scikeras/wrappers.py:915: UserWarning: ``build_fn`` will be renamed to ``model`` in a future release, at which point use of ``build_fn`` will raise an Error instead.\n",
            "  X, y = self._initialize(X, y)\n"
          ]
        },
        {
          "output_type": "stream",
          "name": "stdout",
          "text": [
            "Epoch 1/20\n",
            "704/704 [==============================] - 4s 4ms/step - loss: 0.8335 - accuracy: 0.7524\n",
            "Epoch 2/20\n",
            "704/704 [==============================] - 3s 4ms/step - loss: 0.6605 - accuracy: 0.8268\n",
            "Epoch 3/20\n",
            "704/704 [==============================] - 3s 4ms/step - loss: 0.6287 - accuracy: 0.8356\n",
            "Epoch 4/20\n",
            "704/704 [==============================] - 2s 3ms/step - loss: 0.6579 - accuracy: 0.8351\n",
            "Epoch 5/20\n",
            "704/704 [==============================] - 2s 4ms/step - loss: 0.6416 - accuracy: 0.8381\n",
            "Epoch 6/20\n",
            "704/704 [==============================] - 3s 5ms/step - loss: 0.6096 - accuracy: 0.8473\n",
            "Epoch 7/20\n",
            "704/704 [==============================] - 3s 4ms/step - loss: 0.5771 - accuracy: 0.8576\n",
            "Epoch 8/20\n",
            "704/704 [==============================] - 3s 4ms/step - loss: 0.5986 - accuracy: 0.8517\n",
            "Epoch 9/20\n",
            "704/704 [==============================] - 3s 4ms/step - loss: 0.6056 - accuracy: 0.8502\n",
            "Epoch 10/20\n",
            "704/704 [==============================] - 3s 4ms/step - loss: 0.5871 - accuracy: 0.8504\n",
            "Epoch 11/20\n",
            "704/704 [==============================] - 3s 5ms/step - loss: 0.5915 - accuracy: 0.8509\n",
            "Epoch 12/20\n",
            "704/704 [==============================] - 3s 4ms/step - loss: 0.5799 - accuracy: 0.8559\n",
            "Epoch 13/20\n",
            "704/704 [==============================] - 3s 4ms/step - loss: 0.5798 - accuracy: 0.8528\n",
            "Epoch 14/20\n",
            "704/704 [==============================] - 3s 4ms/step - loss: 0.5843 - accuracy: 0.8517\n",
            "Epoch 15/20\n",
            "704/704 [==============================] - 3s 4ms/step - loss: 0.5560 - accuracy: 0.8587\n",
            "Epoch 16/20\n",
            "704/704 [==============================] - 3s 4ms/step - loss: 0.5590 - accuracy: 0.8612\n",
            "Epoch 17/20\n",
            "704/704 [==============================] - 3s 4ms/step - loss: 0.5651 - accuracy: 0.8612\n",
            "Epoch 18/20\n",
            "704/704 [==============================] - 3s 4ms/step - loss: 0.5712 - accuracy: 0.8532\n",
            "Epoch 19/20\n",
            "704/704 [==============================] - 3s 4ms/step - loss: 0.6132 - accuracy: 0.8477\n",
            "Epoch 20/20\n",
            "704/704 [==============================] - 3s 4ms/step - loss: 0.6072 - accuracy: 0.8456\n",
            "235/235 [==============================] - 0s 2ms/step\n"
          ]
        },
        {
          "output_type": "stream",
          "name": "stderr",
          "text": [
            "/usr/local/lib/python3.10/dist-packages/scikeras/wrappers.py:915: UserWarning: ``build_fn`` will be renamed to ``model`` in a future release, at which point use of ``build_fn`` will raise an Error instead.\n",
            "  X, y = self._initialize(X, y)\n"
          ]
        },
        {
          "output_type": "stream",
          "name": "stdout",
          "text": [
            "Epoch 1/20\n",
            "704/704 [==============================] - 4s 4ms/step - loss: 0.4751 - accuracy: 0.8539\n",
            "Epoch 2/20\n",
            "704/704 [==============================] - 3s 4ms/step - loss: 0.1937 - accuracy: 0.9438\n",
            "Epoch 3/20\n",
            "704/704 [==============================] - 3s 5ms/step - loss: 0.1453 - accuracy: 0.9576\n",
            "Epoch 4/20\n",
            "704/704 [==============================] - 2s 4ms/step - loss: 0.1156 - accuracy: 0.9670\n",
            "Epoch 5/20\n",
            "704/704 [==============================] - 3s 4ms/step - loss: 0.0951 - accuracy: 0.9718\n",
            "Epoch 6/20\n",
            "704/704 [==============================] - 3s 4ms/step - loss: 0.0796 - accuracy: 0.9764\n",
            "Epoch 7/20\n",
            "704/704 [==============================] - 3s 4ms/step - loss: 0.0740 - accuracy: 0.9783\n",
            "Epoch 8/20\n",
            "704/704 [==============================] - 3s 4ms/step - loss: 0.0659 - accuracy: 0.9800\n",
            "Epoch 9/20\n",
            "704/704 [==============================] - 3s 4ms/step - loss: 0.0571 - accuracy: 0.9822\n",
            "Epoch 10/20\n",
            "704/704 [==============================] - 2s 4ms/step - loss: 0.0547 - accuracy: 0.9837\n",
            "Epoch 11/20\n",
            "704/704 [==============================] - 3s 4ms/step - loss: 0.0475 - accuracy: 0.9854\n",
            "Epoch 12/20\n",
            "704/704 [==============================] - 3s 4ms/step - loss: 0.0471 - accuracy: 0.9852\n",
            "Epoch 13/20\n",
            "704/704 [==============================] - 3s 4ms/step - loss: 0.0405 - accuracy: 0.9874\n",
            "Epoch 14/20\n",
            "704/704 [==============================] - 3s 4ms/step - loss: 0.0416 - accuracy: 0.9876\n",
            "Epoch 15/20\n",
            "704/704 [==============================] - 3s 4ms/step - loss: 0.0376 - accuracy: 0.9882\n",
            "Epoch 16/20\n",
            "704/704 [==============================] - 2s 4ms/step - loss: 0.0374 - accuracy: 0.9883\n",
            "Epoch 17/20\n",
            "704/704 [==============================] - 3s 4ms/step - loss: 0.0317 - accuracy: 0.9904\n",
            "Epoch 18/20\n",
            "704/704 [==============================] - 3s 4ms/step - loss: 0.0330 - accuracy: 0.9894\n",
            "Epoch 19/20\n",
            "704/704 [==============================] - 3s 4ms/step - loss: 0.0313 - accuracy: 0.9899\n",
            "Epoch 20/20\n",
            "704/704 [==============================] - 3s 4ms/step - loss: 0.0295 - accuracy: 0.9902\n",
            "235/235 [==============================] - 1s 2ms/step\n"
          ]
        },
        {
          "output_type": "stream",
          "name": "stderr",
          "text": [
            "/usr/local/lib/python3.10/dist-packages/scikeras/wrappers.py:915: UserWarning: ``build_fn`` will be renamed to ``model`` in a future release, at which point use of ``build_fn`` will raise an Error instead.\n",
            "  X, y = self._initialize(X, y)\n"
          ]
        },
        {
          "output_type": "stream",
          "name": "stdout",
          "text": [
            "Epoch 1/20\n",
            "704/704 [==============================] - 4s 4ms/step - loss: 0.4759 - accuracy: 0.8530\n",
            "Epoch 2/20\n",
            "704/704 [==============================] - 2s 3ms/step - loss: 0.1943 - accuracy: 0.9432\n",
            "Epoch 3/20\n",
            "704/704 [==============================] - 3s 4ms/step - loss: 0.1438 - accuracy: 0.9576\n",
            "Epoch 4/20\n",
            "704/704 [==============================] - 3s 4ms/step - loss: 0.1154 - accuracy: 0.9660\n",
            "Epoch 5/20\n",
            "704/704 [==============================] - 3s 4ms/step - loss: 0.0958 - accuracy: 0.9714\n",
            "Epoch 6/20\n",
            "704/704 [==============================] - 2s 4ms/step - loss: 0.0867 - accuracy: 0.9742\n",
            "Epoch 7/20\n",
            "704/704 [==============================] - 3s 4ms/step - loss: 0.0742 - accuracy: 0.9771\n",
            "Epoch 8/20\n",
            "704/704 [==============================] - 2s 3ms/step - loss: 0.0647 - accuracy: 0.9796\n",
            "Epoch 9/20\n",
            "704/704 [==============================] - 4s 6ms/step - loss: 0.0593 - accuracy: 0.9815\n",
            "Epoch 10/20\n",
            "704/704 [==============================] - 3s 4ms/step - loss: 0.0564 - accuracy: 0.9830\n",
            "Epoch 11/20\n",
            "704/704 [==============================] - 3s 4ms/step - loss: 0.0495 - accuracy: 0.9852\n",
            "Epoch 12/20\n",
            "704/704 [==============================] - 2s 4ms/step - loss: 0.0455 - accuracy: 0.9860\n",
            "Epoch 13/20\n",
            "704/704 [==============================] - 3s 4ms/step - loss: 0.0433 - accuracy: 0.9873\n",
            "Epoch 14/20\n",
            "704/704 [==============================] - 3s 5ms/step - loss: 0.0406 - accuracy: 0.9871\n",
            "Epoch 15/20\n",
            "704/704 [==============================] - 3s 4ms/step - loss: 0.0379 - accuracy: 0.9882\n",
            "Epoch 16/20\n",
            "704/704 [==============================] - 3s 4ms/step - loss: 0.0372 - accuracy: 0.9883\n",
            "Epoch 17/20\n",
            "704/704 [==============================] - 3s 4ms/step - loss: 0.0349 - accuracy: 0.9896\n",
            "Epoch 18/20\n",
            "704/704 [==============================] - 3s 4ms/step - loss: 0.0334 - accuracy: 0.9896\n",
            "Epoch 19/20\n",
            "704/704 [==============================] - 3s 5ms/step - loss: 0.0354 - accuracy: 0.9888\n",
            "Epoch 20/20\n",
            "704/704 [==============================] - 3s 4ms/step - loss: 0.0276 - accuracy: 0.9914\n",
            "235/235 [==============================] - 0s 2ms/step\n"
          ]
        },
        {
          "output_type": "stream",
          "name": "stderr",
          "text": [
            "/usr/local/lib/python3.10/dist-packages/scikeras/wrappers.py:915: UserWarning: ``build_fn`` will be renamed to ``model`` in a future release, at which point use of ``build_fn`` will raise an Error instead.\n",
            "  X, y = self._initialize(X, y)\n"
          ]
        },
        {
          "output_type": "stream",
          "name": "stdout",
          "text": [
            "Epoch 1/20\n",
            "704/704 [==============================] - 4s 4ms/step - loss: 0.4668 - accuracy: 0.8569\n",
            "Epoch 2/20\n",
            "704/704 [==============================] - 3s 4ms/step - loss: 0.1897 - accuracy: 0.9437\n",
            "Epoch 3/20\n",
            "704/704 [==============================] - 3s 4ms/step - loss: 0.1392 - accuracy: 0.9590\n",
            "Epoch 4/20\n",
            "704/704 [==============================] - 2s 4ms/step - loss: 0.1114 - accuracy: 0.9670\n",
            "Epoch 5/20\n",
            "704/704 [==============================] - 2s 3ms/step - loss: 0.0950 - accuracy: 0.9711\n",
            "Epoch 6/20\n",
            "704/704 [==============================] - 3s 4ms/step - loss: 0.0796 - accuracy: 0.9746\n",
            "Epoch 7/20\n",
            "704/704 [==============================] - 3s 4ms/step - loss: 0.0749 - accuracy: 0.9764\n",
            "Epoch 8/20\n",
            "704/704 [==============================] - 3s 4ms/step - loss: 0.0667 - accuracy: 0.9794\n",
            "Epoch 9/20\n",
            "704/704 [==============================] - 2s 4ms/step - loss: 0.0582 - accuracy: 0.9822\n",
            "Epoch 10/20\n",
            "704/704 [==============================] - 3s 4ms/step - loss: 0.0541 - accuracy: 0.9833\n",
            "Epoch 11/20\n",
            "704/704 [==============================] - 3s 4ms/step - loss: 0.0474 - accuracy: 0.9856\n",
            "Epoch 12/20\n",
            "704/704 [==============================] - 3s 4ms/step - loss: 0.0437 - accuracy: 0.9862\n",
            "Epoch 13/20\n",
            "704/704 [==============================] - 3s 4ms/step - loss: 0.0432 - accuracy: 0.9864\n",
            "Epoch 14/20\n",
            "704/704 [==============================] - 3s 4ms/step - loss: 0.0422 - accuracy: 0.9863\n",
            "Epoch 15/20\n",
            "704/704 [==============================] - 3s 4ms/step - loss: 0.0403 - accuracy: 0.9878\n",
            "Epoch 16/20\n",
            "704/704 [==============================] - 2s 3ms/step - loss: 0.0338 - accuracy: 0.9890\n",
            "Epoch 17/20\n",
            "704/704 [==============================] - 3s 4ms/step - loss: 0.0331 - accuracy: 0.9896\n",
            "Epoch 18/20\n",
            "704/704 [==============================] - 3s 4ms/step - loss: 0.0358 - accuracy: 0.9883\n",
            "Epoch 19/20\n",
            "704/704 [==============================] - 3s 4ms/step - loss: 0.0318 - accuracy: 0.9899\n",
            "Epoch 20/20\n",
            "704/704 [==============================] - 3s 4ms/step - loss: 0.0311 - accuracy: 0.9895\n",
            "235/235 [==============================] - 1s 3ms/step\n"
          ]
        },
        {
          "output_type": "stream",
          "name": "stderr",
          "text": [
            "/usr/local/lib/python3.10/dist-packages/scikeras/wrappers.py:915: UserWarning: ``build_fn`` will be renamed to ``model`` in a future release, at which point use of ``build_fn`` will raise an Error instead.\n",
            "  X, y = self._initialize(X, y)\n"
          ]
        },
        {
          "output_type": "stream",
          "name": "stdout",
          "text": [
            "Epoch 1/20\n",
            "704/704 [==============================] - 4s 4ms/step - loss: 0.4671 - accuracy: 0.8544\n",
            "Epoch 2/20\n",
            "704/704 [==============================] - 3s 4ms/step - loss: 0.1899 - accuracy: 0.9435\n",
            "Epoch 3/20\n",
            "704/704 [==============================] - 3s 4ms/step - loss: 0.1383 - accuracy: 0.9598\n",
            "Epoch 4/20\n",
            "704/704 [==============================] - 3s 4ms/step - loss: 0.1120 - accuracy: 0.9674\n",
            "Epoch 5/20\n",
            "704/704 [==============================] - 3s 4ms/step - loss: 0.0926 - accuracy: 0.9728\n",
            "Epoch 6/20\n",
            "704/704 [==============================] - 3s 4ms/step - loss: 0.0805 - accuracy: 0.9760\n",
            "Epoch 7/20\n",
            "704/704 [==============================] - 3s 4ms/step - loss: 0.0682 - accuracy: 0.9791\n",
            "Epoch 8/20\n",
            "704/704 [==============================] - 3s 4ms/step - loss: 0.0646 - accuracy: 0.9800\n",
            "Epoch 9/20\n",
            "704/704 [==============================] - 3s 4ms/step - loss: 0.0574 - accuracy: 0.9827\n",
            "Epoch 10/20\n",
            "704/704 [==============================] - 3s 4ms/step - loss: 0.0549 - accuracy: 0.9830\n",
            "Epoch 11/20\n",
            "704/704 [==============================] - 3s 4ms/step - loss: 0.0495 - accuracy: 0.9846\n",
            "Epoch 12/20\n",
            "704/704 [==============================] - 3s 4ms/step - loss: 0.0463 - accuracy: 0.9857\n",
            "Epoch 13/20\n",
            "704/704 [==============================] - 3s 5ms/step - loss: 0.0396 - accuracy: 0.9876\n",
            "Epoch 14/20\n",
            "704/704 [==============================] - 3s 4ms/step - loss: 0.0391 - accuracy: 0.9877\n",
            "Epoch 15/20\n",
            "704/704 [==============================] - 3s 4ms/step - loss: 0.0361 - accuracy: 0.9888\n",
            "Epoch 16/20\n",
            "704/704 [==============================] - 3s 4ms/step - loss: 0.0365 - accuracy: 0.9890\n",
            "Epoch 17/20\n",
            "704/704 [==============================] - 3s 4ms/step - loss: 0.0338 - accuracy: 0.9890\n",
            "Epoch 18/20\n",
            "704/704 [==============================] - 3s 5ms/step - loss: 0.0323 - accuracy: 0.9901\n",
            "Epoch 19/20\n",
            "704/704 [==============================] - 3s 4ms/step - loss: 0.0294 - accuracy: 0.9906\n",
            "Epoch 20/20\n",
            "704/704 [==============================] - 3s 4ms/step - loss: 0.0321 - accuracy: 0.9899\n",
            "235/235 [==============================] - 0s 2ms/step\n"
          ]
        },
        {
          "output_type": "stream",
          "name": "stderr",
          "text": [
            "/usr/local/lib/python3.10/dist-packages/scikeras/wrappers.py:915: UserWarning: ``build_fn`` will be renamed to ``model`` in a future release, at which point use of ``build_fn`` will raise an Error instead.\n",
            "  X, y = self._initialize(X, y)\n"
          ]
        },
        {
          "output_type": "stream",
          "name": "stdout",
          "text": [
            "Epoch 1/15\n",
            "1407/1407 [==============================] - 8s 4ms/step - loss: 2.3476 - accuracy: 0.1080\n",
            "Epoch 2/15\n",
            "1407/1407 [==============================] - 5s 4ms/step - loss: 2.3092 - accuracy: 0.1033\n",
            "Epoch 3/15\n",
            "1407/1407 [==============================] - 6s 5ms/step - loss: 2.3096 - accuracy: 0.1045\n",
            "Epoch 4/15\n",
            "1407/1407 [==============================] - 5s 4ms/step - loss: 2.3095 - accuracy: 0.1021\n",
            "Epoch 5/15\n",
            "1407/1407 [==============================] - 6s 4ms/step - loss: 2.3410 - accuracy: 0.1041\n",
            "Epoch 6/15\n",
            "1407/1407 [==============================] - 5s 3ms/step - loss: 2.3083 - accuracy: 0.1024\n",
            "Epoch 7/15\n",
            "1407/1407 [==============================] - 5s 4ms/step - loss: 2.3075 - accuracy: 0.1051\n",
            "Epoch 8/15\n",
            "1407/1407 [==============================] - 6s 4ms/step - loss: 2.3098 - accuracy: 0.1031\n",
            "Epoch 9/15\n",
            "1407/1407 [==============================] - 5s 4ms/step - loss: 2.3082 - accuracy: 0.1043\n",
            "Epoch 10/15\n",
            "1407/1407 [==============================] - 6s 4ms/step - loss: 2.3080 - accuracy: 0.1056\n",
            "Epoch 11/15\n",
            "1407/1407 [==============================] - 5s 4ms/step - loss: 2.3085 - accuracy: 0.1046\n",
            "Epoch 12/15\n",
            "1407/1407 [==============================] - 5s 4ms/step - loss: 2.3084 - accuracy: 0.1036\n",
            "Epoch 13/15\n",
            "1407/1407 [==============================] - 5s 4ms/step - loss: 2.3089 - accuracy: 0.1045\n",
            "Epoch 14/15\n",
            "1407/1407 [==============================] - 5s 4ms/step - loss: 2.3091 - accuracy: 0.1012\n",
            "Epoch 15/15\n",
            "1407/1407 [==============================] - 6s 4ms/step - loss: 2.3084 - accuracy: 0.1048\n",
            "469/469 [==============================] - 1s 2ms/step\n"
          ]
        },
        {
          "output_type": "stream",
          "name": "stderr",
          "text": [
            "/usr/local/lib/python3.10/dist-packages/scikeras/wrappers.py:915: UserWarning: ``build_fn`` will be renamed to ``model`` in a future release, at which point use of ``build_fn`` will raise an Error instead.\n",
            "  X, y = self._initialize(X, y)\n"
          ]
        },
        {
          "output_type": "stream",
          "name": "stdout",
          "text": [
            "Epoch 1/15\n",
            "1407/1407 [==============================] - 6s 4ms/step - loss: 2.3014 - accuracy: 0.1209\n",
            "Epoch 2/15\n",
            "1407/1407 [==============================] - 6s 4ms/step - loss: 2.3116 - accuracy: 0.1038\n",
            "Epoch 3/15\n",
            "1407/1407 [==============================] - 5s 3ms/step - loss: 2.3078 - accuracy: 0.1053\n",
            "Epoch 4/15\n",
            "1407/1407 [==============================] - 6s 4ms/step - loss: 2.3093 - accuracy: 0.1060\n",
            "Epoch 5/15\n",
            "1407/1407 [==============================] - 5s 3ms/step - loss: 2.3084 - accuracy: 0.1045\n",
            "Epoch 6/15\n",
            "1407/1407 [==============================] - 5s 4ms/step - loss: 2.3080 - accuracy: 0.1016\n",
            "Epoch 7/15\n",
            "1407/1407 [==============================] - 6s 4ms/step - loss: 2.3080 - accuracy: 0.1056\n",
            "Epoch 8/15\n",
            "1407/1407 [==============================] - 5s 4ms/step - loss: 2.3083 - accuracy: 0.1051\n",
            "Epoch 9/15\n",
            "1407/1407 [==============================] - 6s 4ms/step - loss: 2.3077 - accuracy: 0.1059\n",
            "Epoch 10/15\n",
            "1407/1407 [==============================] - 5s 3ms/step - loss: 2.3086 - accuracy: 0.1026\n",
            "Epoch 11/15\n",
            "1407/1407 [==============================] - 5s 4ms/step - loss: 2.3083 - accuracy: 0.1037\n",
            "Epoch 12/15\n",
            "1407/1407 [==============================] - 5s 4ms/step - loss: 2.3082 - accuracy: 0.1042\n",
            "Epoch 13/15\n",
            "1407/1407 [==============================] - 5s 4ms/step - loss: 2.3087 - accuracy: 0.1044\n",
            "Epoch 14/15\n",
            "1407/1407 [==============================] - 6s 4ms/step - loss: 2.3085 - accuracy: 0.1035\n",
            "Epoch 15/15\n",
            "1407/1407 [==============================] - 5s 3ms/step - loss: 2.3080 - accuracy: 0.1024\n",
            "469/469 [==============================] - 1s 2ms/step\n"
          ]
        },
        {
          "output_type": "stream",
          "name": "stderr",
          "text": [
            "/usr/local/lib/python3.10/dist-packages/scikeras/wrappers.py:915: UserWarning: ``build_fn`` will be renamed to ``model`` in a future release, at which point use of ``build_fn`` will raise an Error instead.\n",
            "  X, y = self._initialize(X, y)\n"
          ]
        },
        {
          "output_type": "stream",
          "name": "stdout",
          "text": [
            "Epoch 1/15\n",
            "1407/1407 [==============================] - 7s 4ms/step - loss: 2.3368 - accuracy: 0.1049\n",
            "Epoch 2/15\n",
            "1407/1407 [==============================] - 5s 4ms/step - loss: 2.3085 - accuracy: 0.1044\n",
            "Epoch 3/15\n",
            "1407/1407 [==============================] - 6s 4ms/step - loss: 2.3087 - accuracy: 0.1033\n",
            "Epoch 4/15\n",
            "1407/1407 [==============================] - 5s 4ms/step - loss: 2.3085 - accuracy: 0.1039\n",
            "Epoch 5/15\n",
            "1407/1407 [==============================] - 6s 4ms/step - loss: 2.3078 - accuracy: 0.1053\n",
            "Epoch 6/15\n",
            "1407/1407 [==============================] - 5s 4ms/step - loss: 2.3079 - accuracy: 0.1056\n",
            "Epoch 7/15\n",
            "1407/1407 [==============================] - 5s 4ms/step - loss: 2.3083 - accuracy: 0.1048\n",
            "Epoch 8/15\n",
            "1407/1407 [==============================] - 6s 4ms/step - loss: 2.3078 - accuracy: 0.1036\n",
            "Epoch 9/15\n",
            "1407/1407 [==============================] - 5s 4ms/step - loss: 2.3084 - accuracy: 0.1050\n",
            "Epoch 10/15\n",
            "1407/1407 [==============================] - 7s 5ms/step - loss: 2.3081 - accuracy: 0.1014\n",
            "Epoch 11/15\n",
            "1407/1407 [==============================] - 5s 4ms/step - loss: 2.3081 - accuracy: 0.1048\n",
            "Epoch 12/15\n",
            "1407/1407 [==============================] - 5s 4ms/step - loss: 2.3090 - accuracy: 0.1049\n",
            "Epoch 13/15\n",
            "1407/1407 [==============================] - 6s 4ms/step - loss: 2.3089 - accuracy: 0.1023\n",
            "Epoch 14/15\n",
            "1407/1407 [==============================] - 5s 4ms/step - loss: 2.3079 - accuracy: 0.1069\n",
            "Epoch 15/15\n",
            "1407/1407 [==============================] - 6s 4ms/step - loss: 2.3075 - accuracy: 0.1064\n",
            "469/469 [==============================] - 1s 2ms/step\n"
          ]
        },
        {
          "output_type": "stream",
          "name": "stderr",
          "text": [
            "/usr/local/lib/python3.10/dist-packages/scikeras/wrappers.py:915: UserWarning: ``build_fn`` will be renamed to ``model`` in a future release, at which point use of ``build_fn`` will raise an Error instead.\n",
            "  X, y = self._initialize(X, y)\n"
          ]
        },
        {
          "output_type": "stream",
          "name": "stdout",
          "text": [
            "Epoch 1/15\n",
            "1407/1407 [==============================] - 6s 4ms/step - loss: 2.3455 - accuracy: 0.1030\n",
            "Epoch 2/15\n",
            "1407/1407 [==============================] - 6s 4ms/step - loss: 2.3086 - accuracy: 0.1021\n",
            "Epoch 3/15\n",
            "1407/1407 [==============================] - 5s 4ms/step - loss: 2.3079 - accuracy: 0.1046\n",
            "Epoch 4/15\n",
            "1407/1407 [==============================] - 6s 4ms/step - loss: 2.3082 - accuracy: 0.1031\n",
            "Epoch 5/15\n",
            "1407/1407 [==============================] - 5s 4ms/step - loss: 2.3749 - accuracy: 0.1054\n",
            "Epoch 6/15\n",
            "1407/1407 [==============================] - 5s 3ms/step - loss: 2.3106 - accuracy: 0.1046\n",
            "Epoch 7/15\n",
            "1407/1407 [==============================] - 6s 4ms/step - loss: 2.3077 - accuracy: 0.1053\n",
            "Epoch 8/15\n",
            "1407/1407 [==============================] - 5s 3ms/step - loss: 2.3293 - accuracy: 0.1044\n",
            "Epoch 9/15\n",
            "1407/1407 [==============================] - 6s 4ms/step - loss: 2.3078 - accuracy: 0.1027\n",
            "Epoch 10/15\n",
            "1407/1407 [==============================] - 5s 4ms/step - loss: 2.3081 - accuracy: 0.1071\n",
            "Epoch 11/15\n",
            "1407/1407 [==============================] - 5s 4ms/step - loss: 2.3086 - accuracy: 0.1029\n",
            "Epoch 12/15\n",
            "1407/1407 [==============================] - 6s 4ms/step - loss: 2.3078 - accuracy: 0.1058\n",
            "Epoch 13/15\n",
            "1407/1407 [==============================] - 5s 4ms/step - loss: 2.3079 - accuracy: 0.1061\n",
            "Epoch 14/15\n",
            "1407/1407 [==============================] - 6s 4ms/step - loss: 2.3082 - accuracy: 0.1036\n",
            "Epoch 15/15\n",
            "1407/1407 [==============================] - 5s 4ms/step - loss: 2.3089 - accuracy: 0.1035\n",
            "469/469 [==============================] - 1s 2ms/step\n"
          ]
        },
        {
          "output_type": "stream",
          "name": "stderr",
          "text": [
            "/usr/local/lib/python3.10/dist-packages/scikeras/wrappers.py:915: UserWarning: ``build_fn`` will be renamed to ``model`` in a future release, at which point use of ``build_fn`` will raise an Error instead.\n",
            "  X, y = self._initialize(X, y)\n"
          ]
        },
        {
          "output_type": "stream",
          "name": "stdout",
          "text": [
            "Epoch 1/10\n",
            "352/352 [==============================] - 3s 4ms/step - loss: 937.3641 - accuracy: 0.1007\n",
            "Epoch 2/10\n",
            "352/352 [==============================] - 2s 5ms/step - loss: 6.7227 - accuracy: 0.1026\n",
            "Epoch 3/10\n",
            "352/352 [==============================] - 2s 5ms/step - loss: 9.1843 - accuracy: 0.1035\n",
            "Epoch 4/10\n",
            "352/352 [==============================] - 1s 4ms/step - loss: 2.3953 - accuracy: 0.1022\n",
            "Epoch 5/10\n",
            "352/352 [==============================] - 1s 4ms/step - loss: 2.8840 - accuracy: 0.1005\n",
            "Epoch 6/10\n",
            "352/352 [==============================] - 1s 4ms/step - loss: 2.3499 - accuracy: 0.1019\n",
            "Epoch 7/10\n",
            "352/352 [==============================] - 1s 4ms/step - loss: 2.3527 - accuracy: 0.1000\n",
            "Epoch 8/10\n",
            "352/352 [==============================] - 1s 4ms/step - loss: 2.3577 - accuracy: 0.1032\n",
            "Epoch 9/10\n",
            "352/352 [==============================] - 1s 4ms/step - loss: 3.7330 - accuracy: 0.1029\n",
            "Epoch 10/10\n",
            "352/352 [==============================] - 1s 4ms/step - loss: 2.3496 - accuracy: 0.1019\n",
            "118/118 [==============================] - 0s 2ms/step\n"
          ]
        },
        {
          "output_type": "stream",
          "name": "stderr",
          "text": [
            "/usr/local/lib/python3.10/dist-packages/scikeras/wrappers.py:915: UserWarning: ``build_fn`` will be renamed to ``model`` in a future release, at which point use of ``build_fn`` will raise an Error instead.\n",
            "  X, y = self._initialize(X, y)\n"
          ]
        },
        {
          "output_type": "stream",
          "name": "stdout",
          "text": [
            "Epoch 1/10\n",
            "352/352 [==============================] - 3s 5ms/step - loss: 683.0309 - accuracy: 0.1025\n",
            "Epoch 2/10\n",
            "352/352 [==============================] - 1s 4ms/step - loss: 2.3463 - accuracy: 0.1009\n",
            "Epoch 3/10\n",
            "352/352 [==============================] - 1s 4ms/step - loss: 6.5517 - accuracy: 0.1000\n",
            "Epoch 4/10\n",
            "352/352 [==============================] - 1s 4ms/step - loss: 16.1027 - accuracy: 0.1050\n",
            "Epoch 5/10\n",
            "352/352 [==============================] - 1s 4ms/step - loss: 3.0691 - accuracy: 0.0998\n",
            "Epoch 6/10\n",
            "352/352 [==============================] - 1s 4ms/step - loss: 2.3518 - accuracy: 0.1012\n",
            "Epoch 7/10\n",
            "352/352 [==============================] - 1s 4ms/step - loss: 2.3535 - accuracy: 0.0976\n",
            "Epoch 8/10\n",
            "352/352 [==============================] - 1s 4ms/step - loss: 2.3470 - accuracy: 0.1030\n",
            "Epoch 9/10\n",
            "352/352 [==============================] - 1s 4ms/step - loss: 2.4187 - accuracy: 0.1004\n",
            "Epoch 10/10\n",
            "352/352 [==============================] - 2s 5ms/step - loss: 2.4459 - accuracy: 0.1039\n",
            "118/118 [==============================] - 0s 2ms/step\n"
          ]
        },
        {
          "output_type": "stream",
          "name": "stderr",
          "text": [
            "/usr/local/lib/python3.10/dist-packages/scikeras/wrappers.py:915: UserWarning: ``build_fn`` will be renamed to ``model`` in a future release, at which point use of ``build_fn`` will raise an Error instead.\n",
            "  X, y = self._initialize(X, y)\n"
          ]
        },
        {
          "output_type": "stream",
          "name": "stdout",
          "text": [
            "Epoch 1/10\n",
            "352/352 [==============================] - 2s 4ms/step - loss: 537.8638 - accuracy: 0.1012\n",
            "Epoch 2/10\n",
            "352/352 [==============================] - 1s 4ms/step - loss: 24.8946 - accuracy: 0.1015\n",
            "Epoch 3/10\n",
            "352/352 [==============================] - 2s 5ms/step - loss: 2.3480 - accuracy: 0.1019\n",
            "Epoch 4/10\n",
            "352/352 [==============================] - 2s 5ms/step - loss: 2.3499 - accuracy: 0.0998\n",
            "Epoch 5/10\n",
            "352/352 [==============================] - 1s 3ms/step - loss: 2.3479 - accuracy: 0.1024\n",
            "Epoch 6/10\n",
            "352/352 [==============================] - 1s 4ms/step - loss: 3.2134 - accuracy: 0.1020\n",
            "Epoch 7/10\n",
            "352/352 [==============================] - 1s 4ms/step - loss: 2.3456 - accuracy: 0.1020\n",
            "Epoch 8/10\n",
            "352/352 [==============================] - 1s 4ms/step - loss: 2.3527 - accuracy: 0.1028\n",
            "Epoch 9/10\n",
            "352/352 [==============================] - 1s 4ms/step - loss: 3.1467 - accuracy: 0.1009\n",
            "Epoch 10/10\n",
            "352/352 [==============================] - 1s 4ms/step - loss: 2.3463 - accuracy: 0.1012\n",
            "118/118 [==============================] - 0s 2ms/step\n"
          ]
        },
        {
          "output_type": "stream",
          "name": "stderr",
          "text": [
            "/usr/local/lib/python3.10/dist-packages/scikeras/wrappers.py:915: UserWarning: ``build_fn`` will be renamed to ``model`` in a future release, at which point use of ``build_fn`` will raise an Error instead.\n",
            "  X, y = self._initialize(X, y)\n"
          ]
        },
        {
          "output_type": "stream",
          "name": "stdout",
          "text": [
            "Epoch 1/10\n",
            "352/352 [==============================] - 2s 4ms/step - loss: 508.8382 - accuracy: 0.1025\n",
            "Epoch 2/10\n",
            "352/352 [==============================] - 1s 4ms/step - loss: 55.0729 - accuracy: 0.1001\n",
            "Epoch 3/10\n",
            "352/352 [==============================] - 1s 4ms/step - loss: 2.8528 - accuracy: 0.1021\n",
            "Epoch 4/10\n",
            "352/352 [==============================] - 1s 4ms/step - loss: 2.3485 - accuracy: 0.1024\n",
            "Epoch 5/10\n",
            "352/352 [==============================] - 2s 5ms/step - loss: 296.9327 - accuracy: 0.1002\n",
            "Epoch 6/10\n",
            "352/352 [==============================] - 2s 5ms/step - loss: 2.3519 - accuracy: 0.1012\n",
            "Epoch 7/10\n",
            "352/352 [==============================] - 1s 4ms/step - loss: 2.3472 - accuracy: 0.0995\n",
            "Epoch 8/10\n",
            "352/352 [==============================] - 1s 4ms/step - loss: 2.3484 - accuracy: 0.0996\n",
            "Epoch 9/10\n",
            "352/352 [==============================] - 1s 4ms/step - loss: 2.3481 - accuracy: 0.1020\n",
            "Epoch 10/10\n",
            "352/352 [==============================] - 1s 4ms/step - loss: 2.3469 - accuracy: 0.1034\n",
            "118/118 [==============================] - 0s 2ms/step\n"
          ]
        },
        {
          "output_type": "stream",
          "name": "stderr",
          "text": [
            "/usr/local/lib/python3.10/dist-packages/scikeras/wrappers.py:915: UserWarning: ``build_fn`` will be renamed to ``model`` in a future release, at which point use of ``build_fn`` will raise an Error instead.\n",
            "  X, y = self._initialize(X, y)\n"
          ]
        },
        {
          "output_type": "stream",
          "name": "stdout",
          "text": [
            "Epoch 1/10\n",
            "1407/1407 [==============================] - 7s 4ms/step - loss: 1.7590 - accuracy: 0.3950\n",
            "Epoch 2/10\n",
            "1407/1407 [==============================] - 5s 3ms/step - loss: 1.7184 - accuracy: 0.4105\n",
            "Epoch 3/10\n",
            "1407/1407 [==============================] - 5s 4ms/step - loss: 1.6534 - accuracy: 0.4274\n",
            "Epoch 4/10\n",
            "1407/1407 [==============================] - 5s 4ms/step - loss: 1.6832 - accuracy: 0.4266\n",
            "Epoch 5/10\n",
            "1407/1407 [==============================] - 5s 3ms/step - loss: 1.6828 - accuracy: 0.4202\n",
            "Epoch 6/10\n",
            "1407/1407 [==============================] - 6s 4ms/step - loss: 1.6407 - accuracy: 0.4234\n",
            "Epoch 7/10\n",
            "1407/1407 [==============================] - 5s 3ms/step - loss: 1.6766 - accuracy: 0.4183\n",
            "Epoch 8/10\n",
            "1407/1407 [==============================] - 5s 4ms/step - loss: 1.6282 - accuracy: 0.4283\n",
            "Epoch 9/10\n",
            "1407/1407 [==============================] - 5s 4ms/step - loss: 1.6394 - accuracy: 0.4243\n",
            "Epoch 10/10\n",
            "1407/1407 [==============================] - 5s 4ms/step - loss: 1.6339 - accuracy: 0.4287\n",
            "469/469 [==============================] - 1s 2ms/step\n"
          ]
        },
        {
          "output_type": "stream",
          "name": "stderr",
          "text": [
            "/usr/local/lib/python3.10/dist-packages/scikeras/wrappers.py:915: UserWarning: ``build_fn`` will be renamed to ``model`` in a future release, at which point use of ``build_fn`` will raise an Error instead.\n",
            "  X, y = self._initialize(X, y)\n"
          ]
        },
        {
          "output_type": "stream",
          "name": "stdout",
          "text": [
            "Epoch 1/10\n",
            "1407/1407 [==============================] - 6s 4ms/step - loss: 1.7706 - accuracy: 0.3885\n",
            "Epoch 2/10\n",
            "1407/1407 [==============================] - 6s 4ms/step - loss: 1.7198 - accuracy: 0.4125\n",
            "Epoch 3/10\n",
            "1407/1407 [==============================] - 5s 4ms/step - loss: 1.6814 - accuracy: 0.4166\n",
            "Epoch 4/10\n",
            "1407/1407 [==============================] - 6s 5ms/step - loss: 1.6788 - accuracy: 0.4092\n",
            "Epoch 5/10\n",
            "1407/1407 [==============================] - 5s 4ms/step - loss: 1.6550 - accuracy: 0.4154\n",
            "Epoch 6/10\n",
            "1407/1407 [==============================] - 5s 4ms/step - loss: 1.6878 - accuracy: 0.3979\n",
            "Epoch 7/10\n",
            "1407/1407 [==============================] - 5s 4ms/step - loss: 1.6867 - accuracy: 0.3988\n",
            "Epoch 8/10\n",
            "1407/1407 [==============================] - 5s 4ms/step - loss: 1.6933 - accuracy: 0.3890\n",
            "Epoch 9/10\n",
            "1407/1407 [==============================] - 6s 4ms/step - loss: 1.7146 - accuracy: 0.3894\n",
            "Epoch 10/10\n",
            "1407/1407 [==============================] - 5s 4ms/step - loss: 1.7806 - accuracy: 0.3620\n",
            "469/469 [==============================] - 1s 2ms/step\n"
          ]
        },
        {
          "output_type": "stream",
          "name": "stderr",
          "text": [
            "/usr/local/lib/python3.10/dist-packages/scikeras/wrappers.py:915: UserWarning: ``build_fn`` will be renamed to ``model`` in a future release, at which point use of ``build_fn`` will raise an Error instead.\n",
            "  X, y = self._initialize(X, y)\n"
          ]
        },
        {
          "output_type": "stream",
          "name": "stdout",
          "text": [
            "Epoch 1/10\n",
            "1407/1407 [==============================] - 7s 4ms/step - loss: 1.7962 - accuracy: 0.3724\n",
            "Epoch 2/10\n",
            "1407/1407 [==============================] - 5s 3ms/step - loss: 1.7338 - accuracy: 0.3858\n",
            "Epoch 3/10\n",
            "1407/1407 [==============================] - 6s 4ms/step - loss: 1.7195 - accuracy: 0.3942\n",
            "Epoch 4/10\n",
            "1407/1407 [==============================] - 5s 3ms/step - loss: 1.7165 - accuracy: 0.3868\n",
            "Epoch 5/10\n",
            "1407/1407 [==============================] - 5s 3ms/step - loss: 1.7379 - accuracy: 0.3805\n",
            "Epoch 6/10\n",
            "1407/1407 [==============================] - 6s 4ms/step - loss: 1.6899 - accuracy: 0.3939\n",
            "Epoch 7/10\n",
            "1407/1407 [==============================] - 5s 4ms/step - loss: 1.7605 - accuracy: 0.3567\n",
            "Epoch 8/10\n",
            "1407/1407 [==============================] - 6s 4ms/step - loss: 1.7427 - accuracy: 0.3660\n",
            "Epoch 9/10\n",
            "1407/1407 [==============================] - 5s 3ms/step - loss: 1.7357 - accuracy: 0.3587\n",
            "Epoch 10/10\n",
            "1407/1407 [==============================] - 5s 3ms/step - loss: 1.7589 - accuracy: 0.3554\n",
            "469/469 [==============================] - 1s 2ms/step\n"
          ]
        },
        {
          "output_type": "stream",
          "name": "stderr",
          "text": [
            "/usr/local/lib/python3.10/dist-packages/scikeras/wrappers.py:915: UserWarning: ``build_fn`` will be renamed to ``model`` in a future release, at which point use of ``build_fn`` will raise an Error instead.\n",
            "  X, y = self._initialize(X, y)\n"
          ]
        },
        {
          "output_type": "stream",
          "name": "stdout",
          "text": [
            "Epoch 1/10\n",
            "1407/1407 [==============================] - 6s 3ms/step - loss: 1.8065 - accuracy: 0.3857\n",
            "Epoch 2/10\n",
            "1407/1407 [==============================] - 6s 4ms/step - loss: 1.8047 - accuracy: 0.3747\n",
            "Epoch 3/10\n",
            "1407/1407 [==============================] - 5s 3ms/step - loss: 1.7871 - accuracy: 0.3706\n",
            "Epoch 4/10\n",
            "1407/1407 [==============================] - 5s 3ms/step - loss: 1.7911 - accuracy: 0.3677\n",
            "Epoch 5/10\n",
            "1407/1407 [==============================] - 6s 4ms/step - loss: 1.7992 - accuracy: 0.3530\n",
            "Epoch 6/10\n",
            "1407/1407 [==============================] - 5s 3ms/step - loss: 1.8651 - accuracy: 0.3335\n",
            "Epoch 7/10\n",
            "1407/1407 [==============================] - 6s 4ms/step - loss: 1.8245 - accuracy: 0.3378\n",
            "Epoch 8/10\n",
            "1407/1407 [==============================] - 5s 4ms/step - loss: 1.8090 - accuracy: 0.3477\n",
            "Epoch 9/10\n",
            "1407/1407 [==============================] - 5s 3ms/step - loss: 1.8470 - accuracy: 0.3314\n",
            "Epoch 10/10\n",
            "1407/1407 [==============================] - 6s 4ms/step - loss: 1.8285 - accuracy: 0.3490\n",
            "469/469 [==============================] - 1s 2ms/step\n"
          ]
        },
        {
          "output_type": "stream",
          "name": "stderr",
          "text": [
            "/usr/local/lib/python3.10/dist-packages/scikeras/wrappers.py:915: UserWarning: ``build_fn`` will be renamed to ``model`` in a future release, at which point use of ``build_fn`` will raise an Error instead.\n",
            "  X, y = self._initialize(X, y)\n"
          ]
        },
        {
          "output_type": "stream",
          "name": "stdout",
          "text": [
            "Epoch 1/20\n",
            "938/938 [==============================] - 5s 4ms/step - loss: 0.4084 - accuracy: 0.8751\n",
            "Epoch 2/20\n",
            "938/938 [==============================] - 3s 3ms/step - loss: 0.1691 - accuracy: 0.9506\n",
            "Epoch 3/20\n",
            "938/938 [==============================] - 3s 3ms/step - loss: 0.1227 - accuracy: 0.9642\n",
            "Epoch 4/20\n",
            "938/938 [==============================] - 4s 4ms/step - loss: 0.0992 - accuracy: 0.9707\n",
            "Epoch 5/20\n",
            "938/938 [==============================] - 3s 4ms/step - loss: 0.0866 - accuracy: 0.9743\n",
            "Epoch 6/20\n",
            "938/938 [==============================] - 3s 4ms/step - loss: 0.0759 - accuracy: 0.9772\n",
            "Epoch 7/20\n",
            "938/938 [==============================] - 3s 4ms/step - loss: 0.0665 - accuracy: 0.9798\n",
            "Epoch 8/20\n",
            "938/938 [==============================] - 4s 4ms/step - loss: 0.0588 - accuracy: 0.9818\n",
            "Epoch 9/20\n",
            "938/938 [==============================] - 3s 4ms/step - loss: 0.0544 - accuracy: 0.9832\n",
            "Epoch 10/20\n",
            "938/938 [==============================] - 3s 4ms/step - loss: 0.0518 - accuracy: 0.9844\n",
            "Epoch 11/20\n",
            "938/938 [==============================] - 4s 4ms/step - loss: 0.0469 - accuracy: 0.9853\n",
            "Epoch 12/20\n",
            "938/938 [==============================] - 4s 4ms/step - loss: 0.0445 - accuracy: 0.9858\n",
            "Epoch 13/20\n",
            "938/938 [==============================] - 3s 4ms/step - loss: 0.0397 - accuracy: 0.9880\n",
            "Epoch 14/20\n",
            "938/938 [==============================] - 3s 4ms/step - loss: 0.0402 - accuracy: 0.9875\n",
            "Epoch 15/20\n",
            "938/938 [==============================] - 4s 5ms/step - loss: 0.0371 - accuracy: 0.9879\n",
            "Epoch 16/20\n",
            "938/938 [==============================] - 3s 4ms/step - loss: 0.0340 - accuracy: 0.9893\n",
            "Epoch 17/20\n",
            "938/938 [==============================] - 3s 4ms/step - loss: 0.0354 - accuracy: 0.9887\n",
            "Epoch 18/20\n",
            "938/938 [==============================] - 3s 4ms/step - loss: 0.0300 - accuracy: 0.9907\n",
            "Epoch 19/20\n",
            "938/938 [==============================] - 4s 4ms/step - loss: 0.0308 - accuracy: 0.9901\n",
            "Epoch 20/20\n",
            "938/938 [==============================] - 3s 4ms/step - loss: 0.0284 - accuracy: 0.9909\n"
          ]
        }
      ]
    },
    {
      "cell_type": "code",
      "source": [
        "best_params"
      ],
      "metadata": {
        "colab": {
          "base_uri": "https://localhost:8080/"
        },
        "id": "TPGpDijQZTvy",
        "outputId": "d639413d-1c51-4830-ea02-ca4c9f3d18d2"
      },
      "execution_count": 105,
      "outputs": [
        {
          "output_type": "execute_result",
          "data": {
            "text/plain": [
              "{'batch_size': 64,\n",
              " 'dropout_rate': 0.2,\n",
              " 'epochs': 20,\n",
              " 'learning_rate': 0.0006951927961775605,\n",
              " 'node1': 241,\n",
              " 'node2': 63,\n",
              " 'node3': 100}"
            ]
          },
          "metadata": {},
          "execution_count": 105
        }
      ]
    },
    {
      "cell_type": "code",
      "source": [
        "print('Accuracy of the best Tuning :', best_score)"
      ],
      "metadata": {
        "colab": {
          "base_uri": "https://localhost:8080/"
        },
        "id": "P2Uw7kRmBP3V",
        "outputId": "5ef37f59-62bb-40e5-86d7-bf1993f8952e"
      },
      "execution_count": 188,
      "outputs": [
        {
          "output_type": "stream",
          "name": "stdout",
          "text": [
            "Accuracy of the best Tuning : 0.9787666666666667\n"
          ]
        }
      ]
    },
    {
      "cell_type": "markdown",
      "source": [
        "# **Creating Model with the best Parameters**"
      ],
      "metadata": {
        "id": "hiB41Oa1wNkW"
      }
    },
    {
      "cell_type": "code",
      "source": [
        "model = create_model(learning_rate=best_params['learning_rate'],\n",
        "                     node1=best_params['node1'],\n",
        "                     node2=best_params['node2'],\n",
        "                     node3=best_params['node3'],\n",
        "                     dropout_rate=best_params['dropout_rate'])"
      ],
      "metadata": {
        "id": "kNrEBYCObFOw"
      },
      "execution_count": 109,
      "outputs": []
    },
    {
      "cell_type": "code",
      "source": [
        "model.fit(data_generator.flow(train_images, train_labels, batch_size=best_params['batch_size']),\n",
        "          epochs=best_params['epochs'], validation_data=(test_images, test_labels))\n",
        "model.save('/content/drive/MyDrive/dl .hs files/handwritten digit reconition/best_model.h5')"
      ],
      "metadata": {
        "colab": {
          "base_uri": "https://localhost:8080/"
        },
        "id": "pzObybtabOnR",
        "outputId": "f1e0d664-76bd-49d0-e171-b0d84a773cf1"
      },
      "execution_count": 130,
      "outputs": [
        {
          "output_type": "stream",
          "name": "stdout",
          "text": [
            "Epoch 1/20\n",
            "938/938 [==============================] - 25s 26ms/step - loss: 0.1186 - accuracy: 0.9647 - val_loss: 0.0400 - val_accuracy: 0.9878\n",
            "Epoch 2/20\n",
            "938/938 [==============================] - 22s 23ms/step - loss: 0.1161 - accuracy: 0.9648 - val_loss: 0.0417 - val_accuracy: 0.9868\n",
            "Epoch 3/20\n",
            "938/938 [==============================] - 22s 24ms/step - loss: 0.1174 - accuracy: 0.9640 - val_loss: 0.0393 - val_accuracy: 0.9884\n",
            "Epoch 4/20\n",
            "938/938 [==============================] - 22s 23ms/step - loss: 0.1144 - accuracy: 0.9653 - val_loss: 0.0389 - val_accuracy: 0.9875\n",
            "Epoch 5/20\n",
            "938/938 [==============================] - 22s 23ms/step - loss: 0.1156 - accuracy: 0.9651 - val_loss: 0.0417 - val_accuracy: 0.9872\n",
            "Epoch 6/20\n",
            "938/938 [==============================] - 22s 23ms/step - loss: 0.1150 - accuracy: 0.9658 - val_loss: 0.0480 - val_accuracy: 0.9853\n",
            "Epoch 7/20\n",
            "938/938 [==============================] - 21s 23ms/step - loss: 0.1149 - accuracy: 0.9646 - val_loss: 0.0410 - val_accuracy: 0.9872\n",
            "Epoch 8/20\n",
            "938/938 [==============================] - 23s 24ms/step - loss: 0.1107 - accuracy: 0.9673 - val_loss: 0.0433 - val_accuracy: 0.9860\n",
            "Epoch 9/20\n",
            "938/938 [==============================] - 22s 24ms/step - loss: 0.1132 - accuracy: 0.9664 - val_loss: 0.0456 - val_accuracy: 0.9850\n",
            "Epoch 10/20\n",
            "938/938 [==============================] - 23s 25ms/step - loss: 0.1155 - accuracy: 0.9655 - val_loss: 0.0448 - val_accuracy: 0.9851\n",
            "Epoch 11/20\n",
            "938/938 [==============================] - 23s 24ms/step - loss: 0.1128 - accuracy: 0.9668 - val_loss: 0.0420 - val_accuracy: 0.9868\n",
            "Epoch 12/20\n",
            "938/938 [==============================] - 21s 23ms/step - loss: 0.1104 - accuracy: 0.9662 - val_loss: 0.0400 - val_accuracy: 0.9886\n",
            "Epoch 13/20\n",
            "938/938 [==============================] - 23s 24ms/step - loss: 0.1092 - accuracy: 0.9671 - val_loss: 0.0425 - val_accuracy: 0.9874\n",
            "Epoch 14/20\n",
            "938/938 [==============================] - 21s 23ms/step - loss: 0.1101 - accuracy: 0.9664 - val_loss: 0.0416 - val_accuracy: 0.9865\n",
            "Epoch 15/20\n",
            "938/938 [==============================] - 23s 24ms/step - loss: 0.1102 - accuracy: 0.9669 - val_loss: 0.0378 - val_accuracy: 0.9882\n",
            "Epoch 16/20\n",
            "938/938 [==============================] - 21s 22ms/step - loss: 0.1082 - accuracy: 0.9679 - val_loss: 0.0404 - val_accuracy: 0.9865\n",
            "Epoch 17/20\n",
            "938/938 [==============================] - 23s 24ms/step - loss: 0.1054 - accuracy: 0.9682 - val_loss: 0.0398 - val_accuracy: 0.9880\n",
            "Epoch 18/20\n",
            "938/938 [==============================] - 21s 23ms/step - loss: 0.1087 - accuracy: 0.9675 - val_loss: 0.0373 - val_accuracy: 0.9877\n",
            "Epoch 19/20\n",
            "938/938 [==============================] - 22s 24ms/step - loss: 0.1104 - accuracy: 0.9666 - val_loss: 0.0417 - val_accuracy: 0.9860\n",
            "Epoch 20/20\n",
            "938/938 [==============================] - 22s 23ms/step - loss: 0.1074 - accuracy: 0.9668 - val_loss: 0.0401 - val_accuracy: 0.9876\n"
          ]
        },
        {
          "output_type": "stream",
          "name": "stderr",
          "text": [
            "/usr/local/lib/python3.10/dist-packages/keras/src/engine/training.py:3103: UserWarning: You are saving your model as an HDF5 file via `model.save()`. This file format is considered legacy. We recommend using instead the native Keras format, e.g. `model.save('my_model.keras')`.\n",
            "  saving_api.save_model(\n"
          ]
        }
      ]
    },
    {
      "cell_type": "markdown",
      "source": [
        "**loss**: 0.1074  -  **accuracy**: 0.9668  -  **val_loss**: 0.0401  -\n",
        " **val_accuracy**: 0.9876"
      ],
      "metadata": {
        "id": "XlEP3hiqkFzN"
      }
    },
    {
      "cell_type": "code",
      "source": [
        "test_loss, test_acc = model.evaluate(test_images, test_labels)\n",
        "print(f\"Test accuracy: {test_acc}\")"
      ],
      "metadata": {
        "colab": {
          "base_uri": "https://localhost:8080/"
        },
        "id": "H0dSDSngfyKi",
        "outputId": "c49e721a-0151-4d52-ef79-7efee95ee7a2"
      },
      "execution_count": 132,
      "outputs": [
        {
          "output_type": "stream",
          "name": "stdout",
          "text": [
            "313/313 [==============================] - 1s 2ms/step - loss: 0.0401 - accuracy: 0.9876\n",
            "Test accuracy: 0.9876000285148621\n"
          ]
        }
      ]
    },
    {
      "cell_type": "markdown",
      "source": [
        "# **Predicting With the test data**"
      ],
      "metadata": {
        "id": "l93aeo6pudf7"
      }
    },
    {
      "cell_type": "code",
      "source": [
        "import tensorflow as tf\n",
        "from tensorflow.keras.models import load_model\n",
        "from tensorflow.keras.preprocessing import image\n",
        "from PIL import Image\n",
        "import numpy as np\n",
        "import matplotlib.pyplot as plt\n",
        "from tensorflow.keras.datasets import mnist\n",
        "\n",
        "def predict(image_array):\n",
        "\n",
        "    model = load_model('/content/drive/MyDrive/dl .hs files/handwritten digit reconition/best_model.h5')\n",
        "    img_array = image_array.reshape((1, 28, 28, 1)) / 255.0\n",
        "\n",
        "    predictions = model.predict(img_array)\n",
        "    predicted_label = np.argmax(predictions[0])\n",
        "\n",
        "    plt.imshow(image_array.reshape((28, 28)), cmap='gray')\n",
        "    plt.title(f\"Predicted Label: {predicted_label}\")\n",
        "    plt.show()\n",
        "\n",
        "    return predicted_label\n",
        "\n",
        "(_, _), (test_images, test_labels) = mnist.load_data()"
      ],
      "metadata": {
        "id": "vFA87ThDssXV"
      },
      "execution_count": 175,
      "outputs": []
    },
    {
      "cell_type": "code",
      "source": [
        "predict(test_images[1])"
      ],
      "metadata": {
        "colab": {
          "base_uri": "https://localhost:8080/",
          "height": 488
        },
        "id": "W4JBuU-Ztjn1",
        "outputId": "52fec3c0-0b88-44dd-a94e-cae2c55e7fe9"
      },
      "execution_count": 176,
      "outputs": [
        {
          "output_type": "stream",
          "name": "stdout",
          "text": [
            "1/1 [==============================] - 0s 76ms/step\n"
          ]
        },
        {
          "output_type": "display_data",
          "data": {
            "text/plain": [
              "<Figure size 640x480 with 1 Axes>"
            ],
            "image/png": "[encoded data removed]"
          },
          "metadata": {}
        },
        {
          "output_type": "execute_result",
          "data": {
            "text/plain": [
              "2"
            ]
          },
          "metadata": {},
          "execution_count": 176
        }
      ]
    },
    {
      "cell_type": "code",
      "source": [
        "predict(test_images[10])"
      ],
      "metadata": {
        "colab": {
          "base_uri": "https://localhost:8080/",
          "height": 488
        },
        "id": "MQQX-KENuoCd",
        "outputId": "e6cc7ff7-9764-4bbb-d29b-8d5610e55bf6"
      },
      "execution_count": 177,
      "outputs": [
        {
          "output_type": "stream",
          "name": "stdout",
          "text": [
            "1/1 [==============================] - 0s 184ms/step\n"
          ]
        },
        {
          "output_type": "display_data",
          "data": {
            "text/plain": [
              "<Figure size 640x480 with 1 Axes>"
            ],
            "image/png": "[encoded data removed]"
          },
          "metadata": {}
        },
        {
          "output_type": "execute_result",
          "data": {
            "text/plain": [
              "0"
            ]
          },
          "metadata": {},
          "execution_count": 177
        }
      ]
    },
    {
      "cell_type": "code",
      "source": [
        "predict(test_images[99])"
      ],
      "metadata": {
        "colab": {
          "base_uri": "https://localhost:8080/",
          "height": 488
        },
        "id": "OZEkd_Rxuqgg",
        "outputId": "d4bfb6e2-9a20-4092-bba2-ac062ee65b8c"
      },
      "execution_count": 178,
      "outputs": [
        {
          "output_type": "stream",
          "name": "stdout",
          "text": [
            "1/1 [==============================] - 0s 75ms/step\n"
          ]
        },
        {
          "output_type": "display_data",
          "data": {
            "text/plain": [
              "<Figure size 640x480 with 1 Axes>"
            ],
            "image/png": "[encoded data removed]"
          },
          "metadata": {}
        },
        {
          "output_type": "execute_result",
          "data": {
            "text/plain": [
              "9"
            ]
          },
          "metadata": {},
          "execution_count": 178
        }
      ]
    },
    {
      "cell_type": "code",
      "source": [
        "predict(test_images[500])"
      ],
      "metadata": {
        "colab": {
          "base_uri": "https://localhost:8080/",
          "height": 488
        },
        "id": "R09HQxuHuspY",
        "outputId": "eaa926d2-1970-4b5b-adce-36f76cc12aaf"
      },
      "execution_count": 179,
      "outputs": [
        {
          "output_type": "stream",
          "name": "stdout",
          "text": [
            "1/1 [==============================] - 0s 73ms/step\n"
          ]
        },
        {
          "output_type": "display_data",
          "data": {
            "text/plain": [
              "<Figure size 640x480 with 1 Axes>"
            ],
            "image/png": "[encoded data removed]"
          },
          "metadata": {}
        },
        {
          "output_type": "execute_result",
          "data": {
            "text/plain": [
              "3"
            ]
          },
          "metadata": {},
          "execution_count": 179
        }
      ]
    }
  ]
}